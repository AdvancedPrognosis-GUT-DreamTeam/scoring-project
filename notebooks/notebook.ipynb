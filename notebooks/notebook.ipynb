{
 "cells": [
  {
   "cell_type": "code",
   "execution_count": null,
   "metadata": {},
   "outputs": [],
   "source": [
    "import pandas as pd\n",
    "from scipy import stats\n",
    "import numpy as np\n",
    "from sklearn.feature_selection import mutual_info_classif\n",
    "import matplotlib.pyplot as plt\n",
    "import seaborn as sns\n",
    "import warnings"
   ]
  },
  {
   "cell_type": "code",
   "execution_count": 91,
   "metadata": {},
   "outputs": [],
   "source": [
    "# Set theme to \"whitegrid\"\n",
    "sns.set_style(\"whitegrid\")\n",
    "\n",
    "# Make custom color palette from list of colors\n",
    "PLOT_COLORS = [\n",
    "    \"#F72585\",\n",
    "    \"#B5179E\",\n",
    "    \"#7209B7\",\n",
    "    \"#560BAD\",\n",
    "    \"#480CA8\",\n",
    "    \"#3A0CA3\",\n",
    "    \"#3F37C9\",\n",
    "    \"#4361EE\",\n",
    "    \"#4895EF\",\n",
    "    \"#4CC9F0\",\n",
    "]\n",
    "\n",
    "custom_palette = sns.color_palette(PLOT_COLORS)\n",
    "\n",
    "# Silence seaborn FutureWarning and UserWarning\n",
    "warnings.filterwarnings(\"ignore\", category=FutureWarning)\n",
    "warnings.filterwarnings(\"ignore\", category=UserWarning)\n",
    "\n",
    "\n",
    "def get_color(i: int) -> str:\n",
    "    return PLOT_COLORS[i % len(PLOT_COLORS)]"
   ]
  },
  {
   "cell_type": "code",
   "execution_count": 8,
   "metadata": {},
   "outputs": [
    {
     "data": {
      "application/vnd.microsoft.datawrangler.viewer.v0+json": {
       "columns": [
        {
         "name": "index",
         "rawType": "int64",
         "type": "integer"
        },
        {
         "name": "LP",
         "rawType": "int64",
         "type": "integer"
        },
        {
         "name": "data_akceptacji",
         "rawType": "datetime64[ns]",
         "type": "datetime"
        },
        {
         "name": "grupa_ryzyka",
         "rawType": "int64",
         "type": "integer"
        },
        {
         "name": "kod_partnera",
         "rawType": "int64",
         "type": "integer"
        },
        {
         "name": "typ_umowy",
         "rawType": "object",
         "type": "string"
        },
        {
         "name": "scoring_FICO",
         "rawType": "int64",
         "type": "integer"
        },
        {
         "name": "okres_kredytu",
         "rawType": "int64",
         "type": "integer"
        },
        {
         "name": "kwota_kredytu",
         "rawType": "float64",
         "type": "float"
        },
        {
         "name": "oproc_refin",
         "rawType": "float64",
         "type": "float"
        },
        {
         "name": "oproc_konkur",
         "rawType": "float64",
         "type": "float"
        },
        {
         "name": "koszt_pieniadza",
         "rawType": "float64",
         "type": "float"
        },
        {
         "name": "oproc_propon",
         "rawType": "float64",
         "type": "float"
        },
        {
         "name": "akceptacja_klienta",
         "rawType": "int64",
         "type": "integer"
        }
       ],
       "conversionMethod": "pd.DataFrame",
       "ref": "72ab519f-5c20-4d08-a903-831ee9796bd8",
       "rows": [
        [
         "0",
         "1",
         "2005-04-17 00:00:00",
         "2",
         "2",
         "R",
         "702",
         "48",
         "26500.0",
         "0.039900000000000005",
         "0.0499",
         "0.011000000000000001",
         "0.0659",
         "0"
        ],
        [
         "1",
         "2",
         "2005-04-17 00:00:00",
         "2",
         "2",
         "N",
         "719",
         "72",
         "34999.99",
         "0.0",
         "0.0479",
         "0.011000000000000001",
         "0.0599",
         "0"
        ],
        [
         "2",
         "3",
         "2005-04-17 00:00:00",
         "1",
         "3",
         "N",
         "802",
         "60",
         "28000.0",
         "0.0",
         "0.039900000000000005",
         "0.011000000000000001",
         "0.0355",
         "0"
        ],
        [
         "3",
         "4",
         "2005-04-17 00:00:00",
         "1",
         "1",
         "R",
         "723",
         "60",
         "20750.69",
         "0.0675",
         "0.0499",
         "0.011000000000000001",
         "0.0489",
         "1"
        ],
        [
         "4",
         "5",
         "2005-04-17 00:00:00",
         "3",
         "1",
         "U",
         "690",
         "72",
         "19999.99",
         "0.0",
         "0.0529",
         "0.011000000000000001",
         "0.0679",
         "0"
        ]
       ],
       "shape": {
        "columns": 13,
        "rows": 5
       }
      },
      "text/html": [
       "<div>\n",
       "<style scoped>\n",
       "    .dataframe tbody tr th:only-of-type {\n",
       "        vertical-align: middle;\n",
       "    }\n",
       "\n",
       "    .dataframe tbody tr th {\n",
       "        vertical-align: top;\n",
       "    }\n",
       "\n",
       "    .dataframe thead th {\n",
       "        text-align: right;\n",
       "    }\n",
       "</style>\n",
       "<table border=\"1\" class=\"dataframe\">\n",
       "  <thead>\n",
       "    <tr style=\"text-align: right;\">\n",
       "      <th></th>\n",
       "      <th>LP</th>\n",
       "      <th>data_akceptacji</th>\n",
       "      <th>grupa_ryzyka</th>\n",
       "      <th>kod_partnera</th>\n",
       "      <th>typ_umowy</th>\n",
       "      <th>scoring_FICO</th>\n",
       "      <th>okres_kredytu</th>\n",
       "      <th>kwota_kredytu</th>\n",
       "      <th>oproc_refin</th>\n",
       "      <th>oproc_konkur</th>\n",
       "      <th>koszt_pieniadza</th>\n",
       "      <th>oproc_propon</th>\n",
       "      <th>akceptacja_klienta</th>\n",
       "    </tr>\n",
       "  </thead>\n",
       "  <tbody>\n",
       "    <tr>\n",
       "      <th>0</th>\n",
       "      <td>1</td>\n",
       "      <td>2005-04-17</td>\n",
       "      <td>2</td>\n",
       "      <td>2</td>\n",
       "      <td>R</td>\n",
       "      <td>702</td>\n",
       "      <td>48</td>\n",
       "      <td>26500.00</td>\n",
       "      <td>0.0399</td>\n",
       "      <td>0.0499</td>\n",
       "      <td>0.011</td>\n",
       "      <td>0.0659</td>\n",
       "      <td>0</td>\n",
       "    </tr>\n",
       "    <tr>\n",
       "      <th>1</th>\n",
       "      <td>2</td>\n",
       "      <td>2005-04-17</td>\n",
       "      <td>2</td>\n",
       "      <td>2</td>\n",
       "      <td>N</td>\n",
       "      <td>719</td>\n",
       "      <td>72</td>\n",
       "      <td>34999.99</td>\n",
       "      <td>0.0000</td>\n",
       "      <td>0.0479</td>\n",
       "      <td>0.011</td>\n",
       "      <td>0.0599</td>\n",
       "      <td>0</td>\n",
       "    </tr>\n",
       "    <tr>\n",
       "      <th>2</th>\n",
       "      <td>3</td>\n",
       "      <td>2005-04-17</td>\n",
       "      <td>1</td>\n",
       "      <td>3</td>\n",
       "      <td>N</td>\n",
       "      <td>802</td>\n",
       "      <td>60</td>\n",
       "      <td>28000.00</td>\n",
       "      <td>0.0000</td>\n",
       "      <td>0.0399</td>\n",
       "      <td>0.011</td>\n",
       "      <td>0.0355</td>\n",
       "      <td>0</td>\n",
       "    </tr>\n",
       "    <tr>\n",
       "      <th>3</th>\n",
       "      <td>4</td>\n",
       "      <td>2005-04-17</td>\n",
       "      <td>1</td>\n",
       "      <td>1</td>\n",
       "      <td>R</td>\n",
       "      <td>723</td>\n",
       "      <td>60</td>\n",
       "      <td>20750.69</td>\n",
       "      <td>0.0675</td>\n",
       "      <td>0.0499</td>\n",
       "      <td>0.011</td>\n",
       "      <td>0.0489</td>\n",
       "      <td>1</td>\n",
       "    </tr>\n",
       "    <tr>\n",
       "      <th>4</th>\n",
       "      <td>5</td>\n",
       "      <td>2005-04-17</td>\n",
       "      <td>3</td>\n",
       "      <td>1</td>\n",
       "      <td>U</td>\n",
       "      <td>690</td>\n",
       "      <td>72</td>\n",
       "      <td>19999.99</td>\n",
       "      <td>0.0000</td>\n",
       "      <td>0.0529</td>\n",
       "      <td>0.011</td>\n",
       "      <td>0.0679</td>\n",
       "      <td>0</td>\n",
       "    </tr>\n",
       "  </tbody>\n",
       "</table>\n",
       "</div>"
      ],
      "text/plain": [
       "   LP data_akceptacji  grupa_ryzyka  kod_partnera typ_umowy  scoring_FICO  \\\n",
       "0   1      2005-04-17             2             2         R           702   \n",
       "1   2      2005-04-17             2             2         N           719   \n",
       "2   3      2005-04-17             1             3         N           802   \n",
       "3   4      2005-04-17             1             1         R           723   \n",
       "4   5      2005-04-17             3             1         U           690   \n",
       "\n",
       "   okres_kredytu  kwota_kredytu  oproc_refin  oproc_konkur  koszt_pieniadza  \\\n",
       "0             48       26500.00       0.0399        0.0499            0.011   \n",
       "1             72       34999.99       0.0000        0.0479            0.011   \n",
       "2             60       28000.00       0.0000        0.0399            0.011   \n",
       "3             60       20750.69       0.0675        0.0499            0.011   \n",
       "4             72       19999.99       0.0000        0.0529            0.011   \n",
       "\n",
       "   oproc_propon  akceptacja_klienta  \n",
       "0        0.0659                   0  \n",
       "1        0.0599                   0  \n",
       "2        0.0355                   0  \n",
       "3        0.0489                   1  \n",
       "4        0.0679                   0  "
      ]
     },
     "execution_count": 8,
     "metadata": {},
     "output_type": "execute_result"
    }
   ],
   "source": [
    "df: pd.DataFrame = pd.read_excel(\"../data/kredyty_auto_Scoring2025s.xlsx\")\n",
    "\n",
    "df.head()"
   ]
  },
  {
   "cell_type": "code",
   "execution_count": 4,
   "metadata": {},
   "outputs": [
    {
     "name": "stdout",
     "output_type": "stream",
     "text": [
      "<class 'pandas.core.frame.DataFrame'>\n",
      "RangeIndex: 40000 entries, 0 to 39999\n",
      "Data columns (total 13 columns):\n",
      " #   Column              Non-Null Count  Dtype \n",
      "---  ------              --------------  ----- \n",
      " 0   LP                  40000 non-null  int64 \n",
      " 1   data_akceptacji     40000 non-null  object\n",
      " 2   grupa_ryzyka        40000 non-null  int64 \n",
      " 3   kod_partnera        40000 non-null  int64 \n",
      " 4   typ_umowy           40000 non-null  object\n",
      " 5   scoring_FICO        40000 non-null  int64 \n",
      " 6   okres_kredytu       40000 non-null  int64 \n",
      " 7   kwota_kredytu       40000 non-null  object\n",
      " 8   oproc_refin         40000 non-null  object\n",
      " 9   oproc_konkur        40000 non-null  object\n",
      " 10  koszt_pieniadza     40000 non-null  object\n",
      " 11  oproc_propon        40000 non-null  object\n",
      " 12  akceptacja_klienta  40000 non-null  int64 \n",
      "dtypes: int64(6), object(7)\n",
      "memory usage: 4.0+ MB\n"
     ]
    }
   ],
   "source": [
    "df.info()"
   ]
  },
  {
   "cell_type": "code",
   "execution_count": 43,
   "metadata": {},
   "outputs": [],
   "source": [
    "TARGET = \"akceptacja_klienta\"\n",
    "\n",
    "EXCLUDED_FEATURES = [\"LP\"]"
   ]
  },
  {
   "cell_type": "markdown",
   "metadata": {},
   "source": [
    "Zmienne pochodne"
   ]
  },
  {
   "cell_type": "code",
   "execution_count": null,
   "metadata": {},
   "outputs": [],
   "source": [
    "df[\"delta_oproc_konkurencji\"] = df[\"oproc_propon\"] - df[\"oproc_konkur\"]\n",
    "df[\"delta_oproc_refinansowana\"] = df[\"oproc_propon\"] - df[\"oproc_refin\"]"
   ]
  },
  {
   "cell_type": "code",
   "execution_count": 34,
   "metadata": {},
   "outputs": [],
   "source": [
    "df[\"is_n\"] = df.apply(lambda row: 1 if row[\"typ_umowy\"] == \"N\" else 0, axis=1)\n",
    "df[\"is_r\"] = df.apply(lambda row: 1 if row[\"typ_umowy\"] == \"R\" else 0, axis=1)"
   ]
  },
  {
   "cell_type": "markdown",
   "metadata": {},
   "source": [
    "Statystyki opisowe"
   ]
  },
  {
   "cell_type": "code",
   "execution_count": null,
   "metadata": {},
   "outputs": [
    {
     "data": {
      "application/vnd.microsoft.datawrangler.viewer.v0+json": {
       "columns": [
        {
         "name": "index",
         "rawType": "object",
         "type": "string"
        },
        {
         "name": "count",
         "rawType": "float64",
         "type": "float"
        },
        {
         "name": "mean",
         "rawType": "float64",
         "type": "float"
        },
        {
         "name": "std",
         "rawType": "float64",
         "type": "float"
        },
        {
         "name": "min",
         "rawType": "float64",
         "type": "float"
        },
        {
         "name": "25%",
         "rawType": "float64",
         "type": "float"
        },
        {
         "name": "50%",
         "rawType": "float64",
         "type": "float"
        },
        {
         "name": "75%",
         "rawType": "float64",
         "type": "float"
        },
        {
         "name": "max",
         "rawType": "float64",
         "type": "float"
        }
       ],
       "conversionMethod": "pd.DataFrame",
       "ref": "fadf6325-d5ed-4e06-ba94-4166fedadc71",
       "rows": [
        [
         "delta_oproc_konkurencji",
         "40000.0",
         "0.0162355425",
         "0.019731475445560965",
         "-0.01639999999999999",
         "0.0",
         "0.012000000000000004",
         "0.031499999999999986",
         "0.0776"
        ],
        [
         "delta_oproc_refinansowana",
         "40000.0",
         "0.04222285499999999",
         "0.04510842938863005",
         "-0.19539999999999996",
         "0.014400000000000003",
         "0.0489",
         "0.0719",
         "0.1125"
        ],
        [
         "grupa_ryzyka",
         "40000.0",
         "2.053725",
         "1.0903065365224542",
         "1.0",
         "1.0",
         "2.0",
         "3.0",
         "4.0"
        ],
        [
         "kod_partnera",
         "40000.0",
         "2.103425",
         "0.912824791842616",
         "1.0",
         "1.0",
         "2.0",
         "3.0",
         "3.0"
        ],
        [
         "koszt_pieniadza",
         "40000.0",
         "0.01416949175",
         "0.0026180888175076004",
         "0.0109",
         "0.011137999999999999",
         "0.0138",
         "0.0163",
         "0.02101"
        ],
        [
         "kwota_kredytu",
         "40000.0",
         "24211.65153625",
         "11211.386637014046",
         "4526.62",
         "15703.592499999999",
         "23000.0",
         "30906.824999999997",
         "100000.0"
        ],
        [
         "okres_kredytu",
         "40000.0",
         "57.1869",
         "11.386206986206528",
         "36.0",
         "48.0",
         "60.0",
         "60.0",
         "72.0"
        ],
        [
         "oproc_konkur",
         "40000.0",
         "0.049630965",
         "0.005794449806494919",
         "0.029900000000000003",
         "0.0449",
         "0.0499",
         "0.053899999999999997",
         "0.0629"
        ],
        [
         "oproc_propon",
         "40000.0",
         "0.06586650749999999",
         "0.020703962902170202",
         "0.0259",
         "0.0482",
         "0.0634",
         "0.0824",
         "0.11349999999999999"
        ],
        [
         "oproc_refin",
         "40000.0",
         "0.0236436525",
         "0.041132770285127004",
         "0.0",
         "0.0",
         "0.0",
         "0.055",
         "0.24"
        ],
        [
         "rata_annuita",
         "40000.0",
         "428.9049729253168",
         "197.5670671521177",
         "69.5646999587823",
         "287.4748728864383",
         "410.1537971091983",
         "534.0181721639191",
         "2780.7507711192948"
        ],
        [
         "scoring_FICO",
         "40000.0",
         "720.729175",
         "46.58067756921796",
         "601.0",
         "684.0",
         "717.0",
         "755.0",
         "851.0"
        ]
       ],
       "shape": {
        "columns": 8,
        "rows": 12
       }
      },
      "text/html": [
       "<div>\n",
       "<style scoped>\n",
       "    .dataframe tbody tr th:only-of-type {\n",
       "        vertical-align: middle;\n",
       "    }\n",
       "\n",
       "    .dataframe tbody tr th {\n",
       "        vertical-align: top;\n",
       "    }\n",
       "\n",
       "    .dataframe thead th {\n",
       "        text-align: right;\n",
       "    }\n",
       "</style>\n",
       "<table border=\"1\" class=\"dataframe\">\n",
       "  <thead>\n",
       "    <tr style=\"text-align: right;\">\n",
       "      <th></th>\n",
       "      <th>count</th>\n",
       "      <th>mean</th>\n",
       "      <th>std</th>\n",
       "      <th>min</th>\n",
       "      <th>25%</th>\n",
       "      <th>50%</th>\n",
       "      <th>75%</th>\n",
       "      <th>max</th>\n",
       "    </tr>\n",
       "  </thead>\n",
       "  <tbody>\n",
       "    <tr>\n",
       "      <th>delta_oproc_konkurencji</th>\n",
       "      <td>40000.0</td>\n",
       "      <td>0.016236</td>\n",
       "      <td>0.019731</td>\n",
       "      <td>-0.0164</td>\n",
       "      <td>0.000000</td>\n",
       "      <td>0.012000</td>\n",
       "      <td>0.031500</td>\n",
       "      <td>0.077600</td>\n",
       "    </tr>\n",
       "    <tr>\n",
       "      <th>delta_oproc_refinansowana</th>\n",
       "      <td>40000.0</td>\n",
       "      <td>0.042223</td>\n",
       "      <td>0.045108</td>\n",
       "      <td>-0.1954</td>\n",
       "      <td>0.014400</td>\n",
       "      <td>0.048900</td>\n",
       "      <td>0.071900</td>\n",
       "      <td>0.112500</td>\n",
       "    </tr>\n",
       "    <tr>\n",
       "      <th>grupa_ryzyka</th>\n",
       "      <td>40000.0</td>\n",
       "      <td>2.053725</td>\n",
       "      <td>1.090307</td>\n",
       "      <td>1.0000</td>\n",
       "      <td>1.000000</td>\n",
       "      <td>2.000000</td>\n",
       "      <td>3.000000</td>\n",
       "      <td>4.000000</td>\n",
       "    </tr>\n",
       "    <tr>\n",
       "      <th>kod_partnera</th>\n",
       "      <td>40000.0</td>\n",
       "      <td>2.103425</td>\n",
       "      <td>0.912825</td>\n",
       "      <td>1.0000</td>\n",
       "      <td>1.000000</td>\n",
       "      <td>2.000000</td>\n",
       "      <td>3.000000</td>\n",
       "      <td>3.000000</td>\n",
       "    </tr>\n",
       "    <tr>\n",
       "      <th>koszt_pieniadza</th>\n",
       "      <td>40000.0</td>\n",
       "      <td>0.014169</td>\n",
       "      <td>0.002618</td>\n",
       "      <td>0.0109</td>\n",
       "      <td>0.011138</td>\n",
       "      <td>0.013800</td>\n",
       "      <td>0.016300</td>\n",
       "      <td>0.021010</td>\n",
       "    </tr>\n",
       "    <tr>\n",
       "      <th>kwota_kredytu</th>\n",
       "      <td>40000.0</td>\n",
       "      <td>24211.651536</td>\n",
       "      <td>11211.386637</td>\n",
       "      <td>4526.6200</td>\n",
       "      <td>15703.592500</td>\n",
       "      <td>23000.000000</td>\n",
       "      <td>30906.825000</td>\n",
       "      <td>100000.000000</td>\n",
       "    </tr>\n",
       "    <tr>\n",
       "      <th>okres_kredytu</th>\n",
       "      <td>40000.0</td>\n",
       "      <td>57.186900</td>\n",
       "      <td>11.386207</td>\n",
       "      <td>36.0000</td>\n",
       "      <td>48.000000</td>\n",
       "      <td>60.000000</td>\n",
       "      <td>60.000000</td>\n",
       "      <td>72.000000</td>\n",
       "    </tr>\n",
       "    <tr>\n",
       "      <th>oproc_konkur</th>\n",
       "      <td>40000.0</td>\n",
       "      <td>0.049631</td>\n",
       "      <td>0.005794</td>\n",
       "      <td>0.0299</td>\n",
       "      <td>0.044900</td>\n",
       "      <td>0.049900</td>\n",
       "      <td>0.053900</td>\n",
       "      <td>0.062900</td>\n",
       "    </tr>\n",
       "    <tr>\n",
       "      <th>oproc_propon</th>\n",
       "      <td>40000.0</td>\n",
       "      <td>0.065867</td>\n",
       "      <td>0.020704</td>\n",
       "      <td>0.0259</td>\n",
       "      <td>0.048200</td>\n",
       "      <td>0.063400</td>\n",
       "      <td>0.082400</td>\n",
       "      <td>0.113500</td>\n",
       "    </tr>\n",
       "    <tr>\n",
       "      <th>oproc_refin</th>\n",
       "      <td>40000.0</td>\n",
       "      <td>0.023644</td>\n",
       "      <td>0.041133</td>\n",
       "      <td>0.0000</td>\n",
       "      <td>0.000000</td>\n",
       "      <td>0.000000</td>\n",
       "      <td>0.055000</td>\n",
       "      <td>0.240000</td>\n",
       "    </tr>\n",
       "    <tr>\n",
       "      <th>rata_annuita</th>\n",
       "      <td>40000.0</td>\n",
       "      <td>428.904973</td>\n",
       "      <td>197.567067</td>\n",
       "      <td>69.5647</td>\n",
       "      <td>287.474873</td>\n",
       "      <td>410.153797</td>\n",
       "      <td>534.018172</td>\n",
       "      <td>2780.750771</td>\n",
       "    </tr>\n",
       "    <tr>\n",
       "      <th>scoring_FICO</th>\n",
       "      <td>40000.0</td>\n",
       "      <td>720.729175</td>\n",
       "      <td>46.580678</td>\n",
       "      <td>601.0000</td>\n",
       "      <td>684.000000</td>\n",
       "      <td>717.000000</td>\n",
       "      <td>755.000000</td>\n",
       "      <td>851.000000</td>\n",
       "    </tr>\n",
       "  </tbody>\n",
       "</table>\n",
       "</div>"
      ],
      "text/plain": [
       "                             count          mean           std        min  \\\n",
       "delta_oproc_konkurencji    40000.0      0.016236      0.019731    -0.0164   \n",
       "delta_oproc_refinansowana  40000.0      0.042223      0.045108    -0.1954   \n",
       "grupa_ryzyka               40000.0      2.053725      1.090307     1.0000   \n",
       "kod_partnera               40000.0      2.103425      0.912825     1.0000   \n",
       "koszt_pieniadza            40000.0      0.014169      0.002618     0.0109   \n",
       "kwota_kredytu              40000.0  24211.651536  11211.386637  4526.6200   \n",
       "okres_kredytu              40000.0     57.186900     11.386207    36.0000   \n",
       "oproc_konkur               40000.0      0.049631      0.005794     0.0299   \n",
       "oproc_propon               40000.0      0.065867      0.020704     0.0259   \n",
       "oproc_refin                40000.0      0.023644      0.041133     0.0000   \n",
       "rata_annuita               40000.0    428.904973    197.567067    69.5647   \n",
       "scoring_FICO               40000.0    720.729175     46.580678   601.0000   \n",
       "\n",
       "                                    25%           50%           75%  \\\n",
       "delta_oproc_konkurencji        0.000000      0.012000      0.031500   \n",
       "delta_oproc_refinansowana      0.014400      0.048900      0.071900   \n",
       "grupa_ryzyka                   1.000000      2.000000      3.000000   \n",
       "kod_partnera                   1.000000      2.000000      3.000000   \n",
       "koszt_pieniadza                0.011138      0.013800      0.016300   \n",
       "kwota_kredytu              15703.592500  23000.000000  30906.825000   \n",
       "okres_kredytu                 48.000000     60.000000     60.000000   \n",
       "oproc_konkur                   0.044900      0.049900      0.053900   \n",
       "oproc_propon                   0.048200      0.063400      0.082400   \n",
       "oproc_refin                    0.000000      0.000000      0.055000   \n",
       "rata_annuita                 287.474873    410.153797    534.018172   \n",
       "scoring_FICO                 684.000000    717.000000    755.000000   \n",
       "\n",
       "                                     max  \n",
       "delta_oproc_konkurencji         0.077600  \n",
       "delta_oproc_refinansowana       0.112500  \n",
       "grupa_ryzyka                    4.000000  \n",
       "kod_partnera                    3.000000  \n",
       "koszt_pieniadza                 0.021010  \n",
       "kwota_kredytu              100000.000000  \n",
       "okres_kredytu                  72.000000  \n",
       "oproc_konkur                    0.062900  \n",
       "oproc_propon                    0.113500  \n",
       "oproc_refin                     0.240000  \n",
       "rata_annuita                 2780.750771  \n",
       "scoring_FICO                  851.000000  "
      ]
     },
     "execution_count": 64,
     "metadata": {},
     "output_type": "execute_result"
    }
   ],
   "source": [
    "filtered_columns = df.select_dtypes(include=[\"number\"]).columns.difference(\n",
    "    EXCLUDED_FEATURES\n",
    ")\n",
    "\n",
    "non_binary_columns = [col for col in filtered_columns if df[col].nunique() > 2]\n",
    "\n",
    "df[non_binary_columns].describe().T"
   ]
  },
  {
   "cell_type": "code",
   "execution_count": 72,
   "metadata": {},
   "outputs": [
    {
     "name": "stdout",
     "output_type": "stream",
     "text": [
      "|                           |     count |      mean |       std |      min |       25% |       50% |       75% |        max |\n",
      "|:--------------------------|----------:|----------:|----------:|---------:|----------:|----------:|----------:|-----------:|\n",
      "| delta_oproc_konkurencji   | 40000.000 |     0.016 |     0.020 |   -0.016 |     0.000 |     0.012 |     0.031 |      0.078 |\n",
      "| delta_oproc_refinansowana | 40000.000 |     0.042 |     0.045 |   -0.195 |     0.014 |     0.049 |     0.072 |      0.113 |\n",
      "| grupa_ryzyka              | 40000.000 |     2.054 |     1.090 |    1.000 |     1.000 |     2.000 |     3.000 |      4.000 |\n",
      "| kod_partnera              | 40000.000 |     2.103 |     0.913 |    1.000 |     1.000 |     2.000 |     3.000 |      3.000 |\n",
      "| koszt_pieniadza           | 40000.000 |     0.014 |     0.003 |    0.011 |     0.011 |     0.014 |     0.016 |      0.021 |\n",
      "| kwota_kredytu             | 40000.000 | 24211.652 | 11211.387 | 4526.620 | 15703.592 | 23000.000 | 30906.825 | 100000.000 |\n",
      "| okres_kredytu             | 40000.000 |    57.187 |    11.386 |   36.000 |    48.000 |    60.000 |    60.000 |     72.000 |\n",
      "| oproc_konkur              | 40000.000 |     0.050 |     0.006 |    0.030 |     0.045 |     0.050 |     0.054 |      0.063 |\n",
      "| oproc_propon              | 40000.000 |     0.066 |     0.021 |    0.026 |     0.048 |     0.063 |     0.082 |      0.113 |\n",
      "| oproc_refin               | 40000.000 |     0.024 |     0.041 |    0.000 |     0.000 |     0.000 |     0.055 |      0.240 |\n",
      "| rata_annuita              | 40000.000 |   428.905 |   197.567 |   69.565 |   287.475 |   410.154 |   534.018 |   2780.751 |\n",
      "| scoring_FICO              | 40000.000 |   720.729 |    46.581 |  601.000 |   684.000 |   717.000 |   755.000 |    851.000 |\n"
     ]
    }
   ],
   "source": [
    "md = df[non_binary_columns].describe().T\n",
    "\n",
    "print(md.to_markdown(floatfmt=\".3f\"))"
   ]
  },
  {
   "cell_type": "markdown",
   "metadata": {},
   "source": [
    "Rozkłady zmiennych"
   ]
  },
  {
   "cell_type": "code",
   "execution_count": null,
   "metadata": {},
   "outputs": [
    {
     "data": {
      "image/png": "[encoded data removed]",
      "text/plain": [
       "<Figure size 1500x1300 with 15 Axes>"
      ]
     },
     "metadata": {},
     "output_type": "display_data"
    }
   ],
   "source": [
    "# Select numeric columns excluding those in EXCLUDED_FEATURES\n",
    "numeric_columns = df.select_dtypes(include=[\"number\"]).columns.difference(\n",
    "    EXCLUDED_FEATURES + [TARGET]\n",
    ")\n",
    "\n",
    "# Set up the subplot grid\n",
    "num_cols = 3\n",
    "num_rows = (len(numeric_columns) + num_cols - 1) // num_cols\n",
    "fig, axes = plt.subplots(num_rows, num_cols, figsize=(15, 13))\n",
    "axes = axes.flatten()\n",
    "\n",
    "fig.subplots_adjust(hspace=0.5)\n",
    "\n",
    "fig.suptitle(\"Rozkłady zmiennych numerycznych\", fontsize=16, fontweight=\"bold\")\n",
    "\n",
    "# Plot histograms or bar plots\n",
    "for i, col in enumerate(numeric_columns):\n",
    "    ax = axes[i]\n",
    "    if df[col].nunique() == 2:  # Use bar plot for binary variables\n",
    "        value_counts = df[col].value_counts()\n",
    "        sns.barplot(\n",
    "            x=value_counts.index, y=value_counts.values, ax=ax, palette=custom_palette\n",
    "        )\n",
    "        ax.set_ylabel(\"Count\")\n",
    "    else:  # Use histogram for non-binary variables\n",
    "        bins = 30\n",
    "        df[col].hist(bins=bins, ax=ax, color=get_color(i))\n",
    "        ax.set_ylabel(\"Frequency\")\n",
    "    ax.set_title(f\"{col}\")\n",
    "\n",
    "# Hide unused subplots\n",
    "for j in range(i + 1, len(axes)):\n",
    "    axes[j].axis(\"off\")\n",
    "\n",
    "plt.tight_layout()\n",
    "plt.show()"
   ]
  },
  {
   "cell_type": "code",
   "execution_count": null,
   "metadata": {},
   "outputs": [
    {
     "data": {
      "image/png": "[encoded data removed]",
      "text/plain": [
       "<Figure size 640x480 with 1 Axes>"
      ]
     },
     "metadata": {},
     "output_type": "display_data"
    }
   ],
   "source": [
    "# Plot value counts for the target variable\n",
    "target_value_counts = df[TARGET].value_counts()\n",
    "target_value_counts.plot(kind=\"bar\", color=get_color(1))\n",
    "\n",
    "plt.title(\n",
    "    f\"Ilość wystąpień wartości dla zmiennej: {TARGET}\", fontsize=16, fontweight=\"bold\"\n",
    ")\n",
    "plt.ylabel(\"Count\")\n",
    "plt.xlabel(\"Values\")\n",
    "plt.tight_layout()\n",
    "plt.show()"
   ]
  },
  {
   "cell_type": "code",
   "execution_count": null,
   "metadata": {},
   "outputs": [
    {
     "data": {
      "image/png": "[encoded data removed]",
      "text/plain": [
       "<Figure size 640x480 with 1 Axes>"
      ]
     },
     "metadata": {},
     "output_type": "display_data"
    }
   ],
   "source": [
    "# Select the descriptive (non-numeric) variable\n",
    "descriptive_column = \"typ_umowy\"\n",
    "\n",
    "# Plot value counts for the descriptive variable\n",
    "value_counts = df[descriptive_column].value_counts()\n",
    "value_counts.plot(kind=\"bar\", color=get_color(0))\n",
    "\n",
    "plt.title(\n",
    "    f\"Ilość wystąpień wartości dla zmiennej: {descriptive_column}\",\n",
    "    fontsize=16,\n",
    "    fontweight=\"bold\",\n",
    ")\n",
    "plt.ylabel(\"Count\")\n",
    "plt.xlabel(\"Values\")\n",
    "plt.tight_layout()\n",
    "plt.show()\n"
   ]
  },
  {
   "cell_type": "markdown",
   "metadata": {},
   "source": [
    "Siły predykcyjne"
   ]
  },
  {
   "cell_type": "code",
   "execution_count": null,
   "metadata": {},
   "outputs": [],
   "source": [
    "def calculate_annuit_rate(row):\n",
    "    percentage = row[\"oproc_propon\"]\n",
    "    n = row[\"okres_kredytu\"]\n",
    "\n",
    "    if (\n",
    "        pd.isnull(row[\"kwota_kredytu\"])\n",
    "        or pd.isnull(percentage)\n",
    "        or pd.isnull(n)\n",
    "        or n == 0\n",
    "    ):\n",
    "        return None  # obsługa braków danych lub dzielenia przez zero\n",
    "\n",
    "    r = percentage / 12  # miesięczna stopa procentowa jako ułamek\n",
    "\n",
    "    rata = row[\"kwota_kredytu\"] * (r * (1 + r) ** n) / ((1 + r) ** n - 1)\n",
    "    return rata\n",
    "\n",
    "\n",
    "df[\"rata_annuita\"] = df.apply(calculate_annuit_rate, axis=1)"
   ]
  },
  {
   "cell_type": "code",
   "execution_count": null,
   "metadata": {},
   "outputs": [],
   "source": [
    "def compute_woe_iv(\n",
    "    df: pd.DataFrame, feature: str, target: str, bins: int = 10\n",
    ") -> float:\n",
    "    \"\"\"Compute Information Value for a single feature.\"\"\"\n",
    "    series = df[feature]\n",
    "\n",
    "    if pd.api.types.is_numeric_dtype(series):\n",
    "        binned = pd.qcut(series, bins, duplicates=\"drop\")\n",
    "    else:\n",
    "        binned = series.astype(\"object\")\n",
    "\n",
    "    tmp = pd.DataFrame({feature: binned, target: df[target]})\n",
    "    grp = tmp.groupby(feature, observed=False)[target].agg([\"count\", \"sum\"])\n",
    "    grp[\"non_event\"] = grp[\"count\"] - grp[\"sum\"]\n",
    "\n",
    "    grp[\"dist_event\"] = grp[\"sum\"] / grp[\"sum\"].sum()\n",
    "    grp[\"dist_non_event\"] = grp[\"non_event\"] / grp[\"non_event\"].sum()\n",
    "\n",
    "    grp = grp[(grp[\"dist_event\"] > 0) & (grp[\"dist_non_event\"] > 0)]\n",
    "    grp[\"woe\"] = np.log(grp[\"dist_event\"] / grp[\"dist_non_event\"])\n",
    "    iv = ((grp[\"dist_event\"] - grp[\"dist_non_event\"]) * grp[\"woe\"]).sum()\n",
    "    return float(iv)\n",
    "\n",
    "\n",
    "def cramers_v(x: pd.Series, y: pd.Series) -> float:\n",
    "    \"\"\"Compute Cramer's V statistic for association between two categorical series.\"\"\"\n",
    "    contingency = pd.crosstab(x, y)\n",
    "    chi2, _, _, _ = stats.chi2_contingency(contingency)\n",
    "    n = contingency.values.sum()\n",
    "    phi2 = chi2 / n\n",
    "    r, k = contingency.shape\n",
    "    return float(np.sqrt(phi2 / min(k - 1, r - 1)))"
   ]
  },
  {
   "cell_type": "code",
   "execution_count": 94,
   "metadata": {},
   "outputs": [],
   "source": [
    "# run over all predictors\n",
    "features = [c for c in df.columns if c not in EXCLUDED_FEATURES + [TARGET]]\n",
    "iv_list = []\n",
    "cv_list = []\n",
    "for f in features:\n",
    "    try:\n",
    "        iv_list.append({\"feature\": f, \"IV\": compute_woe_iv(df, f, TARGET)})\n",
    "        cv_list.append({\"feature\": f, \"CramersV\": cramers_v(df[f], df[TARGET])})\n",
    "    except Exception as e:\n",
    "        print(f\"skipping {f}: {e}\")\n",
    "\n",
    "iv_df = pd.DataFrame(iv_list).sort_values(\"IV\", ascending=False).reset_index(drop=True)\n",
    "cv_df = (\n",
    "    pd.DataFrame(cv_list)\n",
    "    .sort_values(\"CramersV\", ascending=False)\n",
    "    .reset_index(drop=True)\n",
    ")"
   ]
  },
  {
   "cell_type": "code",
   "execution_count": 95,
   "metadata": {},
   "outputs": [
    {
     "data": {
      "application/vnd.microsoft.datawrangler.viewer.v0+json": {
       "columns": [
        {
         "name": "index",
         "rawType": "int64",
         "type": "integer"
        },
        {
         "name": "feature",
         "rawType": "object",
         "type": "string"
        },
        {
         "name": "IV",
         "rawType": "float64",
         "type": "float"
        }
       ],
       "conversionMethod": "pd.DataFrame",
       "ref": "ef583f84-c568-425e-afeb-69e10807085a",
       "rows": [
        [
         "0",
         "kwota_kredytu",
         "0.9422729547972339"
        ],
        [
         "1",
         "rata_annuita",
         "0.9169690180395549"
        ],
        [
         "2",
         "delta_oproc_refinansowana",
         "0.5335400134366467"
        ],
        [
         "3",
         "typ_umowy",
         "0.4037341266426625"
        ],
        [
         "4",
         "oproc_refin",
         "0.2833549075231458"
        ],
        [
         "5",
         "delta_oproc_konkurencji",
         "0.2311825859941721"
        ],
        [
         "6",
         "oproc_konkur",
         "0.21320435519933692"
        ],
        [
         "7",
         "oproc_propon",
         "0.210357087629732"
        ],
        [
         "8",
         "grupa_ryzyka",
         "0.1073799541228863"
        ],
        [
         "9",
         "scoring_FICO",
         "0.08484596547722369"
        ],
        [
         "10",
         "okres_kredytu",
         "0.06445041716772577"
        ],
        [
         "11",
         "data_akceptacji",
         "0.03853891365396361"
        ],
        [
         "12",
         "koszt_pieniadza",
         "0.010345453887815098"
        ],
        [
         "13",
         "kod_partnera",
         "0.0014171066356880653"
        ],
        [
         "14",
         "is_n",
         "0.0"
        ],
        [
         "15",
         "is_r",
         "0.0"
        ]
       ],
       "shape": {
        "columns": 2,
        "rows": 16
       }
      },
      "text/html": [
       "<div>\n",
       "<style scoped>\n",
       "    .dataframe tbody tr th:only-of-type {\n",
       "        vertical-align: middle;\n",
       "    }\n",
       "\n",
       "    .dataframe tbody tr th {\n",
       "        vertical-align: top;\n",
       "    }\n",
       "\n",
       "    .dataframe thead th {\n",
       "        text-align: right;\n",
       "    }\n",
       "</style>\n",
       "<table border=\"1\" class=\"dataframe\">\n",
       "  <thead>\n",
       "    <tr style=\"text-align: right;\">\n",
       "      <th></th>\n",
       "      <th>feature</th>\n",
       "      <th>IV</th>\n",
       "    </tr>\n",
       "  </thead>\n",
       "  <tbody>\n",
       "    <tr>\n",
       "      <th>0</th>\n",
       "      <td>kwota_kredytu</td>\n",
       "      <td>0.942273</td>\n",
       "    </tr>\n",
       "    <tr>\n",
       "      <th>1</th>\n",
       "      <td>rata_annuita</td>\n",
       "      <td>0.916969</td>\n",
       "    </tr>\n",
       "    <tr>\n",
       "      <th>2</th>\n",
       "      <td>delta_oproc_refinansowana</td>\n",
       "      <td>0.533540</td>\n",
       "    </tr>\n",
       "    <tr>\n",
       "      <th>3</th>\n",
       "      <td>typ_umowy</td>\n",
       "      <td>0.403734</td>\n",
       "    </tr>\n",
       "    <tr>\n",
       "      <th>4</th>\n",
       "      <td>oproc_refin</td>\n",
       "      <td>0.283355</td>\n",
       "    </tr>\n",
       "    <tr>\n",
       "      <th>5</th>\n",
       "      <td>delta_oproc_konkurencji</td>\n",
       "      <td>0.231183</td>\n",
       "    </tr>\n",
       "    <tr>\n",
       "      <th>6</th>\n",
       "      <td>oproc_konkur</td>\n",
       "      <td>0.213204</td>\n",
       "    </tr>\n",
       "    <tr>\n",
       "      <th>7</th>\n",
       "      <td>oproc_propon</td>\n",
       "      <td>0.210357</td>\n",
       "    </tr>\n",
       "    <tr>\n",
       "      <th>8</th>\n",
       "      <td>grupa_ryzyka</td>\n",
       "      <td>0.107380</td>\n",
       "    </tr>\n",
       "    <tr>\n",
       "      <th>9</th>\n",
       "      <td>scoring_FICO</td>\n",
       "      <td>0.084846</td>\n",
       "    </tr>\n",
       "    <tr>\n",
       "      <th>10</th>\n",
       "      <td>okres_kredytu</td>\n",
       "      <td>0.064450</td>\n",
       "    </tr>\n",
       "    <tr>\n",
       "      <th>11</th>\n",
       "      <td>data_akceptacji</td>\n",
       "      <td>0.038539</td>\n",
       "    </tr>\n",
       "    <tr>\n",
       "      <th>12</th>\n",
       "      <td>koszt_pieniadza</td>\n",
       "      <td>0.010345</td>\n",
       "    </tr>\n",
       "    <tr>\n",
       "      <th>13</th>\n",
       "      <td>kod_partnera</td>\n",
       "      <td>0.001417</td>\n",
       "    </tr>\n",
       "    <tr>\n",
       "      <th>14</th>\n",
       "      <td>is_n</td>\n",
       "      <td>0.000000</td>\n",
       "    </tr>\n",
       "    <tr>\n",
       "      <th>15</th>\n",
       "      <td>is_r</td>\n",
       "      <td>0.000000</td>\n",
       "    </tr>\n",
       "  </tbody>\n",
       "</table>\n",
       "</div>"
      ],
      "text/plain": [
       "                      feature        IV\n",
       "0               kwota_kredytu  0.942273\n",
       "1                rata_annuita  0.916969\n",
       "2   delta_oproc_refinansowana  0.533540\n",
       "3                   typ_umowy  0.403734\n",
       "4                 oproc_refin  0.283355\n",
       "5     delta_oproc_konkurencji  0.231183\n",
       "6                oproc_konkur  0.213204\n",
       "7                oproc_propon  0.210357\n",
       "8                grupa_ryzyka  0.107380\n",
       "9                scoring_FICO  0.084846\n",
       "10              okres_kredytu  0.064450\n",
       "11            data_akceptacji  0.038539\n",
       "12            koszt_pieniadza  0.010345\n",
       "13               kod_partnera  0.001417\n",
       "14                       is_n  0.000000\n",
       "15                       is_r  0.000000"
      ]
     },
     "execution_count": 95,
     "metadata": {},
     "output_type": "execute_result"
    }
   ],
   "source": [
    "iv_df"
   ]
  },
  {
   "cell_type": "code",
   "execution_count": 96,
   "metadata": {},
   "outputs": [
    {
     "data": {
      "application/vnd.microsoft.datawrangler.viewer.v0+json": {
       "columns": [
        {
         "name": "index",
         "rawType": "int64",
         "type": "integer"
        },
        {
         "name": "feature",
         "rawType": "object",
         "type": "string"
        },
        {
         "name": "CramersV",
         "rawType": "float64",
         "type": "float"
        }
       ],
       "conversionMethod": "pd.DataFrame",
       "ref": "907cacf3-1b4d-47a5-b0e5-531bd6092cfb",
       "rows": [
        [
         "0",
         "rata_annuita",
         "0.9601042840840792"
        ],
        [
         "1",
         "kwota_kredytu",
         "0.8581161892590087"
        ],
        [
         "2",
         "delta_oproc_refinansowana",
         "0.44469020691549244"
        ],
        [
         "3",
         "delta_oproc_konkurencji",
         "0.32212056008956735"
        ],
        [
         "4",
         "oproc_propon",
         "0.3138777021048313"
        ],
        [
         "5",
         "oproc_refin",
         "0.2985648560360385"
        ],
        [
         "6",
         "typ_umowy",
         "0.2652313703843233"
        ],
        [
         "7",
         "oproc_konkur",
         "0.2436130999865701"
        ],
        [
         "8",
         "is_n",
         "0.23963121980997634"
        ],
        [
         "9",
         "is_r",
         "0.21257397332264347"
        ],
        [
         "10",
         "grupa_ryzyka",
         "0.18271714885159662"
        ],
        [
         "11",
         "kod_partnera",
         "0.1786675330617315"
        ],
        [
         "12",
         "scoring_FICO",
         "0.1631493035687337"
        ],
        [
         "13",
         "okres_kredytu",
         "0.11869827177762943"
        ],
        [
         "14",
         "data_akceptacji",
         "0.08582874794077987"
        ],
        [
         "15",
         "koszt_pieniadza",
         "0.06441469402812815"
        ]
       ],
       "shape": {
        "columns": 2,
        "rows": 16
       }
      },
      "text/html": [
       "<div>\n",
       "<style scoped>\n",
       "    .dataframe tbody tr th:only-of-type {\n",
       "        vertical-align: middle;\n",
       "    }\n",
       "\n",
       "    .dataframe tbody tr th {\n",
       "        vertical-align: top;\n",
       "    }\n",
       "\n",
       "    .dataframe thead th {\n",
       "        text-align: right;\n",
       "    }\n",
       "</style>\n",
       "<table border=\"1\" class=\"dataframe\">\n",
       "  <thead>\n",
       "    <tr style=\"text-align: right;\">\n",
       "      <th></th>\n",
       "      <th>feature</th>\n",
       "      <th>CramersV</th>\n",
       "    </tr>\n",
       "  </thead>\n",
       "  <tbody>\n",
       "    <tr>\n",
       "      <th>0</th>\n",
       "      <td>rata_annuita</td>\n",
       "      <td>0.960104</td>\n",
       "    </tr>\n",
       "    <tr>\n",
       "      <th>1</th>\n",
       "      <td>kwota_kredytu</td>\n",
       "      <td>0.858116</td>\n",
       "    </tr>\n",
       "    <tr>\n",
       "      <th>2</th>\n",
       "      <td>delta_oproc_refinansowana</td>\n",
       "      <td>0.444690</td>\n",
       "    </tr>\n",
       "    <tr>\n",
       "      <th>3</th>\n",
       "      <td>delta_oproc_konkurencji</td>\n",
       "      <td>0.322121</td>\n",
       "    </tr>\n",
       "    <tr>\n",
       "      <th>4</th>\n",
       "      <td>oproc_propon</td>\n",
       "      <td>0.313878</td>\n",
       "    </tr>\n",
       "    <tr>\n",
       "      <th>5</th>\n",
       "      <td>oproc_refin</td>\n",
       "      <td>0.298565</td>\n",
       "    </tr>\n",
       "    <tr>\n",
       "      <th>6</th>\n",
       "      <td>typ_umowy</td>\n",
       "      <td>0.265231</td>\n",
       "    </tr>\n",
       "    <tr>\n",
       "      <th>7</th>\n",
       "      <td>oproc_konkur</td>\n",
       "      <td>0.243613</td>\n",
       "    </tr>\n",
       "    <tr>\n",
       "      <th>8</th>\n",
       "      <td>is_n</td>\n",
       "      <td>0.239631</td>\n",
       "    </tr>\n",
       "    <tr>\n",
       "      <th>9</th>\n",
       "      <td>is_r</td>\n",
       "      <td>0.212574</td>\n",
       "    </tr>\n",
       "    <tr>\n",
       "      <th>10</th>\n",
       "      <td>grupa_ryzyka</td>\n",
       "      <td>0.182717</td>\n",
       "    </tr>\n",
       "    <tr>\n",
       "      <th>11</th>\n",
       "      <td>kod_partnera</td>\n",
       "      <td>0.178668</td>\n",
       "    </tr>\n",
       "    <tr>\n",
       "      <th>12</th>\n",
       "      <td>scoring_FICO</td>\n",
       "      <td>0.163149</td>\n",
       "    </tr>\n",
       "    <tr>\n",
       "      <th>13</th>\n",
       "      <td>okres_kredytu</td>\n",
       "      <td>0.118698</td>\n",
       "    </tr>\n",
       "    <tr>\n",
       "      <th>14</th>\n",
       "      <td>data_akceptacji</td>\n",
       "      <td>0.085829</td>\n",
       "    </tr>\n",
       "    <tr>\n",
       "      <th>15</th>\n",
       "      <td>koszt_pieniadza</td>\n",
       "      <td>0.064415</td>\n",
       "    </tr>\n",
       "  </tbody>\n",
       "</table>\n",
       "</div>"
      ],
      "text/plain": [
       "                      feature  CramersV\n",
       "0                rata_annuita  0.960104\n",
       "1               kwota_kredytu  0.858116\n",
       "2   delta_oproc_refinansowana  0.444690\n",
       "3     delta_oproc_konkurencji  0.322121\n",
       "4                oproc_propon  0.313878\n",
       "5                 oproc_refin  0.298565\n",
       "6                   typ_umowy  0.265231\n",
       "7                oproc_konkur  0.243613\n",
       "8                        is_n  0.239631\n",
       "9                        is_r  0.212574\n",
       "10               grupa_ryzyka  0.182717\n",
       "11               kod_partnera  0.178668\n",
       "12               scoring_FICO  0.163149\n",
       "13              okres_kredytu  0.118698\n",
       "14            data_akceptacji  0.085829\n",
       "15            koszt_pieniadza  0.064415"
      ]
     },
     "execution_count": 96,
     "metadata": {},
     "output_type": "execute_result"
    }
   ],
   "source": [
    "cv_df"
   ]
  },
  {
   "cell_type": "code",
   "execution_count": 97,
   "metadata": {},
   "outputs": [
    {
     "data": {
      "application/vnd.microsoft.datawrangler.viewer.v0+json": {
       "columns": [
        {
         "name": "index",
         "rawType": "int64",
         "type": "integer"
        },
        {
         "name": "feature",
         "rawType": "object",
         "type": "string"
        },
        {
         "name": "MI",
         "rawType": "float64",
         "type": "float"
        }
       ],
       "conversionMethod": "pd.DataFrame",
       "ref": "799abf80-dd91-4f4a-97a8-9bd3fb437e5e",
       "rows": [
        [
         "6",
         "kwota_kredytu",
         "0.15882305006519837"
        ],
        [
         "13",
         "rata_annuita",
         "0.15118787667710687"
        ],
        [
         "12",
         "delta_oproc_refinansowana",
         "0.07223142797690629"
        ],
        [
         "11",
         "delta_oproc_konkurencji",
         "0.04374884051083194"
        ],
        [
         "10",
         "oproc_propon",
         "0.04370783168508097"
        ],
        [
         "3",
         "typ_umowy",
         "0.040133903011801975"
        ],
        [
         "14",
         "is_n",
         "0.035566007709526115"
        ],
        [
         "7",
         "oproc_refin",
         "0.034983292789395826"
        ],
        [
         "8",
         "oproc_konkur",
         "0.03165127543697133"
        ],
        [
         "15",
         "is_r",
         "0.025928121177965835"
        ],
        [
         "2",
         "kod_partnera",
         "0.024609277280182695"
        ],
        [
         "1",
         "grupa_ryzyka",
         "0.018214504704798795"
        ],
        [
         "4",
         "scoring_FICO",
         "0.009014598202571333"
        ],
        [
         "5",
         "okres_kredytu",
         "0.008078772460048622"
        ],
        [
         "0",
         "data_akceptacji",
         "0.0019188841915676047"
        ],
        [
         "9",
         "koszt_pieniadza",
         "0.0010209662919502538"
        ]
       ],
       "shape": {
        "columns": 2,
        "rows": 16
       }
      },
      "text/html": [
       "<div>\n",
       "<style scoped>\n",
       "    .dataframe tbody tr th:only-of-type {\n",
       "        vertical-align: middle;\n",
       "    }\n",
       "\n",
       "    .dataframe tbody tr th {\n",
       "        vertical-align: top;\n",
       "    }\n",
       "\n",
       "    .dataframe thead th {\n",
       "        text-align: right;\n",
       "    }\n",
       "</style>\n",
       "<table border=\"1\" class=\"dataframe\">\n",
       "  <thead>\n",
       "    <tr style=\"text-align: right;\">\n",
       "      <th></th>\n",
       "      <th>feature</th>\n",
       "      <th>MI</th>\n",
       "    </tr>\n",
       "  </thead>\n",
       "  <tbody>\n",
       "    <tr>\n",
       "      <th>6</th>\n",
       "      <td>kwota_kredytu</td>\n",
       "      <td>0.158823</td>\n",
       "    </tr>\n",
       "    <tr>\n",
       "      <th>13</th>\n",
       "      <td>rata_annuita</td>\n",
       "      <td>0.151188</td>\n",
       "    </tr>\n",
       "    <tr>\n",
       "      <th>12</th>\n",
       "      <td>delta_oproc_refinansowana</td>\n",
       "      <td>0.072231</td>\n",
       "    </tr>\n",
       "    <tr>\n",
       "      <th>11</th>\n",
       "      <td>delta_oproc_konkurencji</td>\n",
       "      <td>0.043749</td>\n",
       "    </tr>\n",
       "    <tr>\n",
       "      <th>10</th>\n",
       "      <td>oproc_propon</td>\n",
       "      <td>0.043708</td>\n",
       "    </tr>\n",
       "    <tr>\n",
       "      <th>3</th>\n",
       "      <td>typ_umowy</td>\n",
       "      <td>0.040134</td>\n",
       "    </tr>\n",
       "    <tr>\n",
       "      <th>14</th>\n",
       "      <td>is_n</td>\n",
       "      <td>0.035566</td>\n",
       "    </tr>\n",
       "    <tr>\n",
       "      <th>7</th>\n",
       "      <td>oproc_refin</td>\n",
       "      <td>0.034983</td>\n",
       "    </tr>\n",
       "    <tr>\n",
       "      <th>8</th>\n",
       "      <td>oproc_konkur</td>\n",
       "      <td>0.031651</td>\n",
       "    </tr>\n",
       "    <tr>\n",
       "      <th>15</th>\n",
       "      <td>is_r</td>\n",
       "      <td>0.025928</td>\n",
       "    </tr>\n",
       "    <tr>\n",
       "      <th>2</th>\n",
       "      <td>kod_partnera</td>\n",
       "      <td>0.024609</td>\n",
       "    </tr>\n",
       "    <tr>\n",
       "      <th>1</th>\n",
       "      <td>grupa_ryzyka</td>\n",
       "      <td>0.018215</td>\n",
       "    </tr>\n",
       "    <tr>\n",
       "      <th>4</th>\n",
       "      <td>scoring_FICO</td>\n",
       "      <td>0.009015</td>\n",
       "    </tr>\n",
       "    <tr>\n",
       "      <th>5</th>\n",
       "      <td>okres_kredytu</td>\n",
       "      <td>0.008079</td>\n",
       "    </tr>\n",
       "    <tr>\n",
       "      <th>0</th>\n",
       "      <td>data_akceptacji</td>\n",
       "      <td>0.001919</td>\n",
       "    </tr>\n",
       "    <tr>\n",
       "      <th>9</th>\n",
       "      <td>koszt_pieniadza</td>\n",
       "      <td>0.001021</td>\n",
       "    </tr>\n",
       "  </tbody>\n",
       "</table>\n",
       "</div>"
      ],
      "text/plain": [
       "                      feature        MI\n",
       "6               kwota_kredytu  0.158823\n",
       "13               rata_annuita  0.151188\n",
       "12  delta_oproc_refinansowana  0.072231\n",
       "11    delta_oproc_konkurencji  0.043749\n",
       "10               oproc_propon  0.043708\n",
       "3                   typ_umowy  0.040134\n",
       "14                       is_n  0.035566\n",
       "7                 oproc_refin  0.034983\n",
       "8                oproc_konkur  0.031651\n",
       "15                       is_r  0.025928\n",
       "2                kod_partnera  0.024609\n",
       "1                grupa_ryzyka  0.018215\n",
       "4                scoring_FICO  0.009015\n",
       "5               okres_kredytu  0.008079\n",
       "0             data_akceptacji  0.001919\n",
       "9             koszt_pieniadza  0.001021"
      ]
     },
     "execution_count": 97,
     "metadata": {},
     "output_type": "execute_result"
    }
   ],
   "source": [
    "X = df[features].apply(lambda col: pd.factorize(col, sort=True)[0])\n",
    "y = df[TARGET].astype(int)\n",
    "\n",
    "mi = mutual_info_classif(X, y, discrete_features=\"auto\", random_state=42)\n",
    "mi_df = pd.DataFrame({\"feature\": features, \"MI\": mi}).sort_values(\"MI\", ascending=False)\n",
    "\n",
    "mi_df"
   ]
  }
 ],
 "metadata": {
  "kernelspec": {
   "display_name": ".venv",
   "language": "python",
   "name": "python3"
  },
  "language_info": {
   "codemirror_mode": {
    "name": "ipython",
    "version": 3
   },
   "file_extension": ".py",
   "mimetype": "text/x-python",
   "name": "python",
   "nbconvert_exporter": "python",
   "pygments_lexer": "ipython3",
   "version": "3.12.2"
  }
 },
 "nbformat": 4,
 "nbformat_minor": 2
}
