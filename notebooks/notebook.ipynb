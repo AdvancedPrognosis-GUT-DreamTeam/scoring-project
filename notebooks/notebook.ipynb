{
 "cells": [
  {
   "cell_type": "code",
   "execution_count": 29,
   "metadata": {},
   "outputs": [],
   "source": [
    "import pandas as pd\n",
    "from scipy import stats\n",
    "import numpy as np\n",
    "from sklearn.feature_selection import mutual_info_classif"
   ]
  },
  {
   "cell_type": "code",
   "execution_count": 8,
   "metadata": {},
   "outputs": [
    {
     "data": {
      "application/vnd.microsoft.datawrangler.viewer.v0+json": {
       "columns": [
        {
         "name": "index",
         "rawType": "int64",
         "type": "integer"
        },
        {
         "name": "LP",
         "rawType": "int64",
         "type": "integer"
        },
        {
         "name": "data_akceptacji",
         "rawType": "datetime64[ns]",
         "type": "datetime"
        },
        {
         "name": "grupa_ryzyka",
         "rawType": "int64",
         "type": "integer"
        },
        {
         "name": "kod_partnera",
         "rawType": "int64",
         "type": "integer"
        },
        {
         "name": "typ_umowy",
         "rawType": "object",
         "type": "string"
        },
        {
         "name": "scoring_FICO",
         "rawType": "int64",
         "type": "integer"
        },
        {
         "name": "okres_kredytu",
         "rawType": "int64",
         "type": "integer"
        },
        {
         "name": "kwota_kredytu",
         "rawType": "float64",
         "type": "float"
        },
        {
         "name": "oproc_refin",
         "rawType": "float64",
         "type": "float"
        },
        {
         "name": "oproc_konkur",
         "rawType": "float64",
         "type": "float"
        },
        {
         "name": "koszt_pieniadza",
         "rawType": "float64",
         "type": "float"
        },
        {
         "name": "oproc_propon",
         "rawType": "float64",
         "type": "float"
        },
        {
         "name": "akceptacja_klienta",
         "rawType": "int64",
         "type": "integer"
        }
       ],
       "conversionMethod": "pd.DataFrame",
       "ref": "72ab519f-5c20-4d08-a903-831ee9796bd8",
       "rows": [
        [
         "0",
         "1",
         "2005-04-17 00:00:00",
         "2",
         "2",
         "R",
         "702",
         "48",
         "26500.0",
         "0.039900000000000005",
         "0.0499",
         "0.011000000000000001",
         "0.0659",
         "0"
        ],
        [
         "1",
         "2",
         "2005-04-17 00:00:00",
         "2",
         "2",
         "N",
         "719",
         "72",
         "34999.99",
         "0.0",
         "0.0479",
         "0.011000000000000001",
         "0.0599",
         "0"
        ],
        [
         "2",
         "3",
         "2005-04-17 00:00:00",
         "1",
         "3",
         "N",
         "802",
         "60",
         "28000.0",
         "0.0",
         "0.039900000000000005",
         "0.011000000000000001",
         "0.0355",
         "0"
        ],
        [
         "3",
         "4",
         "2005-04-17 00:00:00",
         "1",
         "1",
         "R",
         "723",
         "60",
         "20750.69",
         "0.0675",
         "0.0499",
         "0.011000000000000001",
         "0.0489",
         "1"
        ],
        [
         "4",
         "5",
         "2005-04-17 00:00:00",
         "3",
         "1",
         "U",
         "690",
         "72",
         "19999.99",
         "0.0",
         "0.0529",
         "0.011000000000000001",
         "0.0679",
         "0"
        ]
       ],
       "shape": {
        "columns": 13,
        "rows": 5
       }
      },
      "text/html": [
       "<div>\n",
       "<style scoped>\n",
       "    .dataframe tbody tr th:only-of-type {\n",
       "        vertical-align: middle;\n",
       "    }\n",
       "\n",
       "    .dataframe tbody tr th {\n",
       "        vertical-align: top;\n",
       "    }\n",
       "\n",
       "    .dataframe thead th {\n",
       "        text-align: right;\n",
       "    }\n",
       "</style>\n",
       "<table border=\"1\" class=\"dataframe\">\n",
       "  <thead>\n",
       "    <tr style=\"text-align: right;\">\n",
       "      <th></th>\n",
       "      <th>LP</th>\n",
       "      <th>data_akceptacji</th>\n",
       "      <th>grupa_ryzyka</th>\n",
       "      <th>kod_partnera</th>\n",
       "      <th>typ_umowy</th>\n",
       "      <th>scoring_FICO</th>\n",
       "      <th>okres_kredytu</th>\n",
       "      <th>kwota_kredytu</th>\n",
       "      <th>oproc_refin</th>\n",
       "      <th>oproc_konkur</th>\n",
       "      <th>koszt_pieniadza</th>\n",
       "      <th>oproc_propon</th>\n",
       "      <th>akceptacja_klienta</th>\n",
       "    </tr>\n",
       "  </thead>\n",
       "  <tbody>\n",
       "    <tr>\n",
       "      <th>0</th>\n",
       "      <td>1</td>\n",
       "      <td>2005-04-17</td>\n",
       "      <td>2</td>\n",
       "      <td>2</td>\n",
       "      <td>R</td>\n",
       "      <td>702</td>\n",
       "      <td>48</td>\n",
       "      <td>26500.00</td>\n",
       "      <td>0.0399</td>\n",
       "      <td>0.0499</td>\n",
       "      <td>0.011</td>\n",
       "      <td>0.0659</td>\n",
       "      <td>0</td>\n",
       "    </tr>\n",
       "    <tr>\n",
       "      <th>1</th>\n",
       "      <td>2</td>\n",
       "      <td>2005-04-17</td>\n",
       "      <td>2</td>\n",
       "      <td>2</td>\n",
       "      <td>N</td>\n",
       "      <td>719</td>\n",
       "      <td>72</td>\n",
       "      <td>34999.99</td>\n",
       "      <td>0.0000</td>\n",
       "      <td>0.0479</td>\n",
       "      <td>0.011</td>\n",
       "      <td>0.0599</td>\n",
       "      <td>0</td>\n",
       "    </tr>\n",
       "    <tr>\n",
       "      <th>2</th>\n",
       "      <td>3</td>\n",
       "      <td>2005-04-17</td>\n",
       "      <td>1</td>\n",
       "      <td>3</td>\n",
       "      <td>N</td>\n",
       "      <td>802</td>\n",
       "      <td>60</td>\n",
       "      <td>28000.00</td>\n",
       "      <td>0.0000</td>\n",
       "      <td>0.0399</td>\n",
       "      <td>0.011</td>\n",
       "      <td>0.0355</td>\n",
       "      <td>0</td>\n",
       "    </tr>\n",
       "    <tr>\n",
       "      <th>3</th>\n",
       "      <td>4</td>\n",
       "      <td>2005-04-17</td>\n",
       "      <td>1</td>\n",
       "      <td>1</td>\n",
       "      <td>R</td>\n",
       "      <td>723</td>\n",
       "      <td>60</td>\n",
       "      <td>20750.69</td>\n",
       "      <td>0.0675</td>\n",
       "      <td>0.0499</td>\n",
       "      <td>0.011</td>\n",
       "      <td>0.0489</td>\n",
       "      <td>1</td>\n",
       "    </tr>\n",
       "    <tr>\n",
       "      <th>4</th>\n",
       "      <td>5</td>\n",
       "      <td>2005-04-17</td>\n",
       "      <td>3</td>\n",
       "      <td>1</td>\n",
       "      <td>U</td>\n",
       "      <td>690</td>\n",
       "      <td>72</td>\n",
       "      <td>19999.99</td>\n",
       "      <td>0.0000</td>\n",
       "      <td>0.0529</td>\n",
       "      <td>0.011</td>\n",
       "      <td>0.0679</td>\n",
       "      <td>0</td>\n",
       "    </tr>\n",
       "  </tbody>\n",
       "</table>\n",
       "</div>"
      ],
      "text/plain": [
       "   LP data_akceptacji  grupa_ryzyka  kod_partnera typ_umowy  scoring_FICO  \\\n",
       "0   1      2005-04-17             2             2         R           702   \n",
       "1   2      2005-04-17             2             2         N           719   \n",
       "2   3      2005-04-17             1             3         N           802   \n",
       "3   4      2005-04-17             1             1         R           723   \n",
       "4   5      2005-04-17             3             1         U           690   \n",
       "\n",
       "   okres_kredytu  kwota_kredytu  oproc_refin  oproc_konkur  koszt_pieniadza  \\\n",
       "0             48       26500.00       0.0399        0.0499            0.011   \n",
       "1             72       34999.99       0.0000        0.0479            0.011   \n",
       "2             60       28000.00       0.0000        0.0399            0.011   \n",
       "3             60       20750.69       0.0675        0.0499            0.011   \n",
       "4             72       19999.99       0.0000        0.0529            0.011   \n",
       "\n",
       "   oproc_propon  akceptacja_klienta  \n",
       "0        0.0659                   0  \n",
       "1        0.0599                   0  \n",
       "2        0.0355                   0  \n",
       "3        0.0489                   1  \n",
       "4        0.0679                   0  "
      ]
     },
     "execution_count": 8,
     "metadata": {},
     "output_type": "execute_result"
    }
   ],
   "source": [
    "df: pd.DataFrame = pd.read_excel(\"../data/kredyty_auto_Scoring2025s.xlsx\")\n",
    "\n",
    "df.head()"
   ]
  },
  {
   "cell_type": "code",
   "execution_count": 4,
   "metadata": {},
   "outputs": [
    {
     "name": "stdout",
     "output_type": "stream",
     "text": [
      "<class 'pandas.core.frame.DataFrame'>\n",
      "RangeIndex: 40000 entries, 0 to 39999\n",
      "Data columns (total 13 columns):\n",
      " #   Column              Non-Null Count  Dtype \n",
      "---  ------              --------------  ----- \n",
      " 0   LP                  40000 non-null  int64 \n",
      " 1   data_akceptacji     40000 non-null  object\n",
      " 2   grupa_ryzyka        40000 non-null  int64 \n",
      " 3   kod_partnera        40000 non-null  int64 \n",
      " 4   typ_umowy           40000 non-null  object\n",
      " 5   scoring_FICO        40000 non-null  int64 \n",
      " 6   okres_kredytu       40000 non-null  int64 \n",
      " 7   kwota_kredytu       40000 non-null  object\n",
      " 8   oproc_refin         40000 non-null  object\n",
      " 9   oproc_konkur        40000 non-null  object\n",
      " 10  koszt_pieniadza     40000 non-null  object\n",
      " 11  oproc_propon        40000 non-null  object\n",
      " 12  akceptacja_klienta  40000 non-null  int64 \n",
      "dtypes: int64(6), object(7)\n",
      "memory usage: 4.0+ MB\n"
     ]
    }
   ],
   "source": [
    "df.info()"
   ]
  },
  {
   "cell_type": "code",
   "execution_count": 10,
   "metadata": {},
   "outputs": [
    {
     "data": {
      "application/vnd.microsoft.datawrangler.viewer.v0+json": {
       "columns": [
        {
         "name": "index",
         "rawType": "object",
         "type": "string"
        },
        {
         "name": "LP",
         "rawType": "float64",
         "type": "float"
        },
        {
         "name": "data_akceptacji",
         "rawType": "object",
         "type": "unknown"
        },
        {
         "name": "grupa_ryzyka",
         "rawType": "float64",
         "type": "float"
        },
        {
         "name": "kod_partnera",
         "rawType": "float64",
         "type": "float"
        },
        {
         "name": "scoring_FICO",
         "rawType": "float64",
         "type": "float"
        },
        {
         "name": "okres_kredytu",
         "rawType": "float64",
         "type": "float"
        },
        {
         "name": "kwota_kredytu",
         "rawType": "float64",
         "type": "float"
        },
        {
         "name": "oproc_refin",
         "rawType": "float64",
         "type": "float"
        },
        {
         "name": "oproc_konkur",
         "rawType": "float64",
         "type": "float"
        },
        {
         "name": "koszt_pieniadza",
         "rawType": "float64",
         "type": "float"
        },
        {
         "name": "oproc_propon",
         "rawType": "float64",
         "type": "float"
        },
        {
         "name": "akceptacja_klienta",
         "rawType": "float64",
         "type": "float"
        }
       ],
       "conversionMethod": "pd.DataFrame",
       "ref": "44e85290-a7c7-45d5-8687-c1692bd831d7",
       "rows": [
        [
         "count",
         "40000.0",
         "40000",
         "40000.0",
         "40000.0",
         "40000.0",
         "40000.0",
         "40000.0",
         "40000.0",
         "40000.0",
         "40000.0",
         "40000.0",
         "40000.0"
        ],
        [
         "mean",
         "20000.5",
         "2005-07-11 18:14:11.040000128",
         "2.053725",
         "2.103425",
         "720.729175",
         "57.1869",
         "24211.65153625",
         "0.0236436525",
         "0.049630965",
         "0.01416949175",
         "0.06586650749999999",
         "0.259175"
        ],
        [
         "min",
         "1.0",
         "2005-03-25 00:00:00",
         "1.0",
         "1.0",
         "601.0",
         "36.0",
         "4526.62",
         "0.0",
         "0.029900000000000003",
         "0.0109",
         "0.0259",
         "0.0"
        ],
        [
         "25%",
         "10000.75",
         "2005-05-30 00:00:00",
         "1.0",
         "1.0",
         "684.0",
         "48.0",
         "15703.592499999999",
         "0.0",
         "0.0449",
         "0.011137999999999999",
         "0.0482",
         "0.0"
        ],
        [
         "50%",
         "20000.5",
         "2005-07-12 00:00:00",
         "2.0",
         "2.0",
         "717.0",
         "60.0",
         "23000.0",
         "0.0",
         "0.0499",
         "0.0138",
         "0.0634",
         "0.0"
        ],
        [
         "75%",
         "30000.25",
         "2005-08-25 00:00:00",
         "3.0",
         "3.0",
         "755.0",
         "60.0",
         "30906.824999999997",
         "0.055",
         "0.053899999999999997",
         "0.0163",
         "0.0824",
         "1.0"
        ],
        [
         "max",
         "40000.0",
         "2005-11-12 00:00:00",
         "4.0",
         "3.0",
         "851.0",
         "72.0",
         "100000.0",
         "0.24",
         "0.0629",
         "0.02101",
         "0.11349999999999999",
         "1.0"
        ],
        [
         "std",
         "11547.149720457714",
         null,
         "1.0903065365224542",
         "0.912824791842616",
         "46.58067756921796",
         "11.386206986206528",
         "11211.386637014046",
         "0.041132770285127004",
         "0.005794449806494919",
         "0.0026180888175076004",
         "0.020703962902170202",
         "0.43818731106456005"
        ]
       ],
       "shape": {
        "columns": 12,
        "rows": 8
       }
      },
      "text/html": [
       "<div>\n",
       "<style scoped>\n",
       "    .dataframe tbody tr th:only-of-type {\n",
       "        vertical-align: middle;\n",
       "    }\n",
       "\n",
       "    .dataframe tbody tr th {\n",
       "        vertical-align: top;\n",
       "    }\n",
       "\n",
       "    .dataframe thead th {\n",
       "        text-align: right;\n",
       "    }\n",
       "</style>\n",
       "<table border=\"1\" class=\"dataframe\">\n",
       "  <thead>\n",
       "    <tr style=\"text-align: right;\">\n",
       "      <th></th>\n",
       "      <th>LP</th>\n",
       "      <th>data_akceptacji</th>\n",
       "      <th>grupa_ryzyka</th>\n",
       "      <th>kod_partnera</th>\n",
       "      <th>scoring_FICO</th>\n",
       "      <th>okres_kredytu</th>\n",
       "      <th>kwota_kredytu</th>\n",
       "      <th>oproc_refin</th>\n",
       "      <th>oproc_konkur</th>\n",
       "      <th>koszt_pieniadza</th>\n",
       "      <th>oproc_propon</th>\n",
       "      <th>akceptacja_klienta</th>\n",
       "    </tr>\n",
       "  </thead>\n",
       "  <tbody>\n",
       "    <tr>\n",
       "      <th>count</th>\n",
       "      <td>40000.00000</td>\n",
       "      <td>40000</td>\n",
       "      <td>40000.000000</td>\n",
       "      <td>40000.000000</td>\n",
       "      <td>40000.000000</td>\n",
       "      <td>40000.000000</td>\n",
       "      <td>40000.000000</td>\n",
       "      <td>40000.000000</td>\n",
       "      <td>40000.000000</td>\n",
       "      <td>40000.000000</td>\n",
       "      <td>40000.000000</td>\n",
       "      <td>40000.000000</td>\n",
       "    </tr>\n",
       "    <tr>\n",
       "      <th>mean</th>\n",
       "      <td>20000.50000</td>\n",
       "      <td>2005-07-11 18:14:11.040000128</td>\n",
       "      <td>2.053725</td>\n",
       "      <td>2.103425</td>\n",
       "      <td>720.729175</td>\n",
       "      <td>57.186900</td>\n",
       "      <td>24211.651536</td>\n",
       "      <td>0.023644</td>\n",
       "      <td>0.049631</td>\n",
       "      <td>0.014169</td>\n",
       "      <td>0.065867</td>\n",
       "      <td>0.259175</td>\n",
       "    </tr>\n",
       "    <tr>\n",
       "      <th>min</th>\n",
       "      <td>1.00000</td>\n",
       "      <td>2005-03-25 00:00:00</td>\n",
       "      <td>1.000000</td>\n",
       "      <td>1.000000</td>\n",
       "      <td>601.000000</td>\n",
       "      <td>36.000000</td>\n",
       "      <td>4526.620000</td>\n",
       "      <td>0.000000</td>\n",
       "      <td>0.029900</td>\n",
       "      <td>0.010900</td>\n",
       "      <td>0.025900</td>\n",
       "      <td>0.000000</td>\n",
       "    </tr>\n",
       "    <tr>\n",
       "      <th>25%</th>\n",
       "      <td>10000.75000</td>\n",
       "      <td>2005-05-30 00:00:00</td>\n",
       "      <td>1.000000</td>\n",
       "      <td>1.000000</td>\n",
       "      <td>684.000000</td>\n",
       "      <td>48.000000</td>\n",
       "      <td>15703.592500</td>\n",
       "      <td>0.000000</td>\n",
       "      <td>0.044900</td>\n",
       "      <td>0.011138</td>\n",
       "      <td>0.048200</td>\n",
       "      <td>0.000000</td>\n",
       "    </tr>\n",
       "    <tr>\n",
       "      <th>50%</th>\n",
       "      <td>20000.50000</td>\n",
       "      <td>2005-07-12 00:00:00</td>\n",
       "      <td>2.000000</td>\n",
       "      <td>2.000000</td>\n",
       "      <td>717.000000</td>\n",
       "      <td>60.000000</td>\n",
       "      <td>23000.000000</td>\n",
       "      <td>0.000000</td>\n",
       "      <td>0.049900</td>\n",
       "      <td>0.013800</td>\n",
       "      <td>0.063400</td>\n",
       "      <td>0.000000</td>\n",
       "    </tr>\n",
       "    <tr>\n",
       "      <th>75%</th>\n",
       "      <td>30000.25000</td>\n",
       "      <td>2005-08-25 00:00:00</td>\n",
       "      <td>3.000000</td>\n",
       "      <td>3.000000</td>\n",
       "      <td>755.000000</td>\n",
       "      <td>60.000000</td>\n",
       "      <td>30906.825000</td>\n",
       "      <td>0.055000</td>\n",
       "      <td>0.053900</td>\n",
       "      <td>0.016300</td>\n",
       "      <td>0.082400</td>\n",
       "      <td>1.000000</td>\n",
       "    </tr>\n",
       "    <tr>\n",
       "      <th>max</th>\n",
       "      <td>40000.00000</td>\n",
       "      <td>2005-11-12 00:00:00</td>\n",
       "      <td>4.000000</td>\n",
       "      <td>3.000000</td>\n",
       "      <td>851.000000</td>\n",
       "      <td>72.000000</td>\n",
       "      <td>100000.000000</td>\n",
       "      <td>0.240000</td>\n",
       "      <td>0.062900</td>\n",
       "      <td>0.021010</td>\n",
       "      <td>0.113500</td>\n",
       "      <td>1.000000</td>\n",
       "    </tr>\n",
       "    <tr>\n",
       "      <th>std</th>\n",
       "      <td>11547.14972</td>\n",
       "      <td>NaN</td>\n",
       "      <td>1.090307</td>\n",
       "      <td>0.912825</td>\n",
       "      <td>46.580678</td>\n",
       "      <td>11.386207</td>\n",
       "      <td>11211.386637</td>\n",
       "      <td>0.041133</td>\n",
       "      <td>0.005794</td>\n",
       "      <td>0.002618</td>\n",
       "      <td>0.020704</td>\n",
       "      <td>0.438187</td>\n",
       "    </tr>\n",
       "  </tbody>\n",
       "</table>\n",
       "</div>"
      ],
      "text/plain": [
       "                LP                data_akceptacji  grupa_ryzyka  kod_partnera  \\\n",
       "count  40000.00000                          40000  40000.000000  40000.000000   \n",
       "mean   20000.50000  2005-07-11 18:14:11.040000128      2.053725      2.103425   \n",
       "min        1.00000            2005-03-25 00:00:00      1.000000      1.000000   \n",
       "25%    10000.75000            2005-05-30 00:00:00      1.000000      1.000000   \n",
       "50%    20000.50000            2005-07-12 00:00:00      2.000000      2.000000   \n",
       "75%    30000.25000            2005-08-25 00:00:00      3.000000      3.000000   \n",
       "max    40000.00000            2005-11-12 00:00:00      4.000000      3.000000   \n",
       "std    11547.14972                            NaN      1.090307      0.912825   \n",
       "\n",
       "       scoring_FICO  okres_kredytu  kwota_kredytu   oproc_refin  oproc_konkur  \\\n",
       "count  40000.000000   40000.000000   40000.000000  40000.000000  40000.000000   \n",
       "mean     720.729175      57.186900   24211.651536      0.023644      0.049631   \n",
       "min      601.000000      36.000000    4526.620000      0.000000      0.029900   \n",
       "25%      684.000000      48.000000   15703.592500      0.000000      0.044900   \n",
       "50%      717.000000      60.000000   23000.000000      0.000000      0.049900   \n",
       "75%      755.000000      60.000000   30906.825000      0.055000      0.053900   \n",
       "max      851.000000      72.000000  100000.000000      0.240000      0.062900   \n",
       "std       46.580678      11.386207   11211.386637      0.041133      0.005794   \n",
       "\n",
       "       koszt_pieniadza  oproc_propon  akceptacja_klienta  \n",
       "count     40000.000000  40000.000000        40000.000000  \n",
       "mean          0.014169      0.065867            0.259175  \n",
       "min           0.010900      0.025900            0.000000  \n",
       "25%           0.011138      0.048200            0.000000  \n",
       "50%           0.013800      0.063400            0.000000  \n",
       "75%           0.016300      0.082400            1.000000  \n",
       "max           0.021010      0.113500            1.000000  \n",
       "std           0.002618      0.020704            0.438187  "
      ]
     },
     "execution_count": 10,
     "metadata": {},
     "output_type": "execute_result"
    }
   ],
   "source": [
    "df.describe()"
   ]
  },
  {
   "cell_type": "code",
   "execution_count": 32,
   "metadata": {},
   "outputs": [],
   "source": [
    "df[\"delta_oproc_konkurencji\"] = df[\"oproc_propon\"] - df[\"oproc_konkur\"]\n",
    "df[\"delta_oproc_refinansowana\"] = df[\"oproc_propon\"] - df[\"oproc_refin\"]\n"
   ]
  },
  {
   "cell_type": "code",
   "execution_count": null,
   "metadata": {},
   "outputs": [],
   "source": [
    "def calculate_annuit_rate(row):\n",
    "    percentage = row[\"oproc_propon\"]\n",
    "    n = row[\"okres_kredytu\"]\n",
    "\n",
    "    if (\n",
    "        pd.isnull(row[\"kwota_kredytu\"])\n",
    "        or pd.isnull(percentage)\n",
    "        or pd.isnull(n)\n",
    "        or n == 0\n",
    "    ):\n",
    "        return None  # obsługa braków danych lub dzielenia przez zero\n",
    "\n",
    "    r = percentage / 12  # miesięczna stopa procentowa jako ułamek\n",
    "\n",
    "    rata = row[\"kwota_kredytu\"] * (r * (1 + r) ** n) / ((1 + r) ** n - 1)\n",
    "    return rata\n",
    "\n",
    "\n",
    "df[\"rata_annuita\"] = df.apply(calculate_annuit_rate, axis=1)"
   ]
  },
  {
   "cell_type": "code",
   "execution_count": null,
   "metadata": {},
   "outputs": [],
   "source": [
    "df[\"is_n\"] = df.apply(lambda row: 1 if row[\"typ_umowy\"] == \"N\" else 0, axis=1)\n",
    "df[\"is_r\"] = df.apply(lambda row: 1 if row[\"typ_umowy\"] == \"R\" else 0, axis=1)"
   ]
  },
  {
   "cell_type": "code",
   "execution_count": null,
   "metadata": {},
   "outputs": [],
   "source": [
    "def compute_woe_iv(\n",
    "    df: pd.DataFrame, feature: str, target: str, bins: int = 10\n",
    ") -> float:\n",
    "    \"\"\"Compute Information Value for a single feature.\"\"\"\n",
    "    series = df[feature]\n",
    "\n",
    "    if pd.api.types.is_numeric_dtype(series):\n",
    "        binned = pd.qcut(series, bins, duplicates=\"drop\")\n",
    "    else:\n",
    "        binned = series.astype(\"object\")\n",
    "\n",
    "    tmp = pd.DataFrame({feature: binned, target: df[target]})\n",
    "    grp = tmp.groupby(feature, observed=False)[target].agg([\"count\", \"sum\"])\n",
    "    grp[\"non_event\"] = grp[\"count\"] - grp[\"sum\"]\n",
    "\n",
    "    grp[\"dist_event\"] = grp[\"sum\"] / grp[\"sum\"].sum()\n",
    "    grp[\"dist_non_event\"] = grp[\"non_event\"] / grp[\"non_event\"].sum()\n",
    "\n",
    "    grp = grp[(grp[\"dist_event\"] > 0) & (grp[\"dist_non_event\"] > 0)]\n",
    "    grp[\"woe\"] = np.log(grp[\"dist_event\"] / grp[\"dist_non_event\"])\n",
    "    iv = ((grp[\"dist_event\"] - grp[\"dist_non_event\"]) * grp[\"woe\"]).sum()\n",
    "    return float(iv)\n",
    "\n",
    "\n",
    "def cramers_v(x: pd.Series, y: pd.Series) -> float:\n",
    "    \"\"\"Compute Cramer's V statistic for association between two categorical series.\"\"\"\n",
    "    contingency = pd.crosstab(x, y)\n",
    "    chi2, _, _, _ = stats.chi2_contingency(contingency)\n",
    "    n = contingency.values.sum()\n",
    "    phi2 = chi2 / n\n",
    "    r, k = contingency.shape\n",
    "    return float(np.sqrt(phi2 / min(k - 1, r - 1)))"
   ]
  },
  {
   "cell_type": "code",
   "execution_count": null,
   "metadata": {},
   "outputs": [],
   "source": [
    "TARGET = \"akceptacja_klienta\"\n",
    "\n",
    "EXCLUDED_FEATURES = [\"LP\"]\n",
    "\n",
    "# run over all predictors\n",
    "features = [c for c in df.columns if c not in EXCLUDED_FEATURES + [TARGET]]\n",
    "iv_list = []\n",
    "cv_list = []\n",
    "for f in features:\n",
    "    try:\n",
    "        iv_list.append({\"feature\": f, \"IV\": compute_woe_iv(df, f, TARGET)})\n",
    "        cv_list.append({\"feature\": f, \"CramersV\": cramers_v(df[f], df[TARGET])})\n",
    "    except Exception as e:\n",
    "        print(f\"skipping {f}: {e}\")\n",
    "\n",
    "iv_df = pd.DataFrame(iv_list).sort_values(\"IV\", ascending=False).reset_index(drop=True)\n",
    "cv_df = (\n",
    "    pd.DataFrame(cv_list)\n",
    "    .sort_values(\"CramersV\", ascending=False)\n",
    "    .reset_index(drop=True)\n",
    ")"
   ]
  },
  {
   "cell_type": "code",
   "execution_count": 24,
   "metadata": {},
   "outputs": [
    {
     "data": {
      "application/vnd.microsoft.datawrangler.viewer.v0+json": {
       "columns": [
        {
         "name": "index",
         "rawType": "int64",
         "type": "integer"
        },
        {
         "name": "feature",
         "rawType": "object",
         "type": "string"
        },
        {
         "name": "IV",
         "rawType": "float64",
         "type": "float"
        }
       ],
       "conversionMethod": "pd.DataFrame",
       "ref": "dd862393-22bc-4a23-a874-ed046eddc296",
       "rows": [
        [
         "0",
         "kwota_kredytu",
         "0.9422729547972339"
        ],
        [
         "1",
         "typ_umowy",
         "0.4037341266426625"
        ],
        [
         "2",
         "oproc_refin",
         "0.2833549075231458"
        ],
        [
         "3",
         "oproc_konkur",
         "0.21320435519933692"
        ],
        [
         "4",
         "oproc_propon",
         "0.210357087629732"
        ],
        [
         "5",
         "grupa_ryzyka",
         "0.1073799541228863"
        ],
        [
         "6",
         "scoring_FICO",
         "0.08484596547722369"
        ],
        [
         "7",
         "okres_kredytu",
         "0.06445041716772577"
        ],
        [
         "8",
         "data_akceptacji",
         "0.03853891365396361"
        ],
        [
         "9",
         "koszt_pieniadza",
         "0.010345453887815098"
        ],
        [
         "10",
         "kod_partnera",
         "0.0014171066356880653"
        ]
       ],
       "shape": {
        "columns": 2,
        "rows": 11
       }
      },
      "text/html": [
       "<div>\n",
       "<style scoped>\n",
       "    .dataframe tbody tr th:only-of-type {\n",
       "        vertical-align: middle;\n",
       "    }\n",
       "\n",
       "    .dataframe tbody tr th {\n",
       "        vertical-align: top;\n",
       "    }\n",
       "\n",
       "    .dataframe thead th {\n",
       "        text-align: right;\n",
       "    }\n",
       "</style>\n",
       "<table border=\"1\" class=\"dataframe\">\n",
       "  <thead>\n",
       "    <tr style=\"text-align: right;\">\n",
       "      <th></th>\n",
       "      <th>feature</th>\n",
       "      <th>IV</th>\n",
       "    </tr>\n",
       "  </thead>\n",
       "  <tbody>\n",
       "    <tr>\n",
       "      <th>0</th>\n",
       "      <td>kwota_kredytu</td>\n",
       "      <td>0.942273</td>\n",
       "    </tr>\n",
       "    <tr>\n",
       "      <th>1</th>\n",
       "      <td>typ_umowy</td>\n",
       "      <td>0.403734</td>\n",
       "    </tr>\n",
       "    <tr>\n",
       "      <th>2</th>\n",
       "      <td>oproc_refin</td>\n",
       "      <td>0.283355</td>\n",
       "    </tr>\n",
       "    <tr>\n",
       "      <th>3</th>\n",
       "      <td>oproc_konkur</td>\n",
       "      <td>0.213204</td>\n",
       "    </tr>\n",
       "    <tr>\n",
       "      <th>4</th>\n",
       "      <td>oproc_propon</td>\n",
       "      <td>0.210357</td>\n",
       "    </tr>\n",
       "    <tr>\n",
       "      <th>5</th>\n",
       "      <td>grupa_ryzyka</td>\n",
       "      <td>0.107380</td>\n",
       "    </tr>\n",
       "    <tr>\n",
       "      <th>6</th>\n",
       "      <td>scoring_FICO</td>\n",
       "      <td>0.084846</td>\n",
       "    </tr>\n",
       "    <tr>\n",
       "      <th>7</th>\n",
       "      <td>okres_kredytu</td>\n",
       "      <td>0.064450</td>\n",
       "    </tr>\n",
       "    <tr>\n",
       "      <th>8</th>\n",
       "      <td>data_akceptacji</td>\n",
       "      <td>0.038539</td>\n",
       "    </tr>\n",
       "    <tr>\n",
       "      <th>9</th>\n",
       "      <td>koszt_pieniadza</td>\n",
       "      <td>0.010345</td>\n",
       "    </tr>\n",
       "    <tr>\n",
       "      <th>10</th>\n",
       "      <td>kod_partnera</td>\n",
       "      <td>0.001417</td>\n",
       "    </tr>\n",
       "  </tbody>\n",
       "</table>\n",
       "</div>"
      ],
      "text/plain": [
       "            feature        IV\n",
       "0     kwota_kredytu  0.942273\n",
       "1         typ_umowy  0.403734\n",
       "2       oproc_refin  0.283355\n",
       "3      oproc_konkur  0.213204\n",
       "4      oproc_propon  0.210357\n",
       "5      grupa_ryzyka  0.107380\n",
       "6      scoring_FICO  0.084846\n",
       "7     okres_kredytu  0.064450\n",
       "8   data_akceptacji  0.038539\n",
       "9   koszt_pieniadza  0.010345\n",
       "10     kod_partnera  0.001417"
      ]
     },
     "execution_count": 24,
     "metadata": {},
     "output_type": "execute_result"
    }
   ],
   "source": [
    "iv_df"
   ]
  },
  {
   "cell_type": "code",
   "execution_count": 25,
   "metadata": {},
   "outputs": [
    {
     "data": {
      "application/vnd.microsoft.datawrangler.viewer.v0+json": {
       "columns": [
        {
         "name": "index",
         "rawType": "int64",
         "type": "integer"
        },
        {
         "name": "feature",
         "rawType": "object",
         "type": "string"
        },
        {
         "name": "CramersV",
         "rawType": "float64",
         "type": "float"
        }
       ],
       "conversionMethod": "pd.DataFrame",
       "ref": "024ececc-6f05-4619-a294-3dc5ae4e590b",
       "rows": [
        [
         "0",
         "kwota_kredytu",
         "0.8581161892590087"
        ],
        [
         "1",
         "oproc_propon",
         "0.3138777021048313"
        ],
        [
         "2",
         "oproc_refin",
         "0.2985648560360385"
        ],
        [
         "3",
         "typ_umowy",
         "0.2652313703843233"
        ],
        [
         "4",
         "oproc_konkur",
         "0.2436130999865701"
        ],
        [
         "5",
         "grupa_ryzyka",
         "0.18271714885159662"
        ],
        [
         "6",
         "kod_partnera",
         "0.1786675330617315"
        ],
        [
         "7",
         "scoring_FICO",
         "0.1631493035687337"
        ],
        [
         "8",
         "okres_kredytu",
         "0.11869827177762943"
        ],
        [
         "9",
         "data_akceptacji",
         "0.08582874794077987"
        ],
        [
         "10",
         "koszt_pieniadza",
         "0.06441469402812815"
        ]
       ],
       "shape": {
        "columns": 2,
        "rows": 11
       }
      },
      "text/html": [
       "<div>\n",
       "<style scoped>\n",
       "    .dataframe tbody tr th:only-of-type {\n",
       "        vertical-align: middle;\n",
       "    }\n",
       "\n",
       "    .dataframe tbody tr th {\n",
       "        vertical-align: top;\n",
       "    }\n",
       "\n",
       "    .dataframe thead th {\n",
       "        text-align: right;\n",
       "    }\n",
       "</style>\n",
       "<table border=\"1\" class=\"dataframe\">\n",
       "  <thead>\n",
       "    <tr style=\"text-align: right;\">\n",
       "      <th></th>\n",
       "      <th>feature</th>\n",
       "      <th>CramersV</th>\n",
       "    </tr>\n",
       "  </thead>\n",
       "  <tbody>\n",
       "    <tr>\n",
       "      <th>0</th>\n",
       "      <td>kwota_kredytu</td>\n",
       "      <td>0.858116</td>\n",
       "    </tr>\n",
       "    <tr>\n",
       "      <th>1</th>\n",
       "      <td>oproc_propon</td>\n",
       "      <td>0.313878</td>\n",
       "    </tr>\n",
       "    <tr>\n",
       "      <th>2</th>\n",
       "      <td>oproc_refin</td>\n",
       "      <td>0.298565</td>\n",
       "    </tr>\n",
       "    <tr>\n",
       "      <th>3</th>\n",
       "      <td>typ_umowy</td>\n",
       "      <td>0.265231</td>\n",
       "    </tr>\n",
       "    <tr>\n",
       "      <th>4</th>\n",
       "      <td>oproc_konkur</td>\n",
       "      <td>0.243613</td>\n",
       "    </tr>\n",
       "    <tr>\n",
       "      <th>5</th>\n",
       "      <td>grupa_ryzyka</td>\n",
       "      <td>0.182717</td>\n",
       "    </tr>\n",
       "    <tr>\n",
       "      <th>6</th>\n",
       "      <td>kod_partnera</td>\n",
       "      <td>0.178668</td>\n",
       "    </tr>\n",
       "    <tr>\n",
       "      <th>7</th>\n",
       "      <td>scoring_FICO</td>\n",
       "      <td>0.163149</td>\n",
       "    </tr>\n",
       "    <tr>\n",
       "      <th>8</th>\n",
       "      <td>okres_kredytu</td>\n",
       "      <td>0.118698</td>\n",
       "    </tr>\n",
       "    <tr>\n",
       "      <th>9</th>\n",
       "      <td>data_akceptacji</td>\n",
       "      <td>0.085829</td>\n",
       "    </tr>\n",
       "    <tr>\n",
       "      <th>10</th>\n",
       "      <td>koszt_pieniadza</td>\n",
       "      <td>0.064415</td>\n",
       "    </tr>\n",
       "  </tbody>\n",
       "</table>\n",
       "</div>"
      ],
      "text/plain": [
       "            feature  CramersV\n",
       "0     kwota_kredytu  0.858116\n",
       "1      oproc_propon  0.313878\n",
       "2       oproc_refin  0.298565\n",
       "3         typ_umowy  0.265231\n",
       "4      oproc_konkur  0.243613\n",
       "5      grupa_ryzyka  0.182717\n",
       "6      kod_partnera  0.178668\n",
       "7      scoring_FICO  0.163149\n",
       "8     okres_kredytu  0.118698\n",
       "9   data_akceptacji  0.085829\n",
       "10  koszt_pieniadza  0.064415"
      ]
     },
     "execution_count": 25,
     "metadata": {},
     "output_type": "execute_result"
    }
   ],
   "source": [
    "cv_df"
   ]
  },
  {
   "cell_type": "code",
   "execution_count": null,
   "metadata": {},
   "outputs": [
    {
     "data": {
      "application/vnd.microsoft.datawrangler.viewer.v0+json": {
       "columns": [
        {
         "name": "index",
         "rawType": "int64",
         "type": "integer"
        },
        {
         "name": "feature",
         "rawType": "object",
         "type": "string"
        },
        {
         "name": "MI",
         "rawType": "float64",
         "type": "float"
        }
       ],
       "conversionMethod": "pd.DataFrame",
       "ref": "70595d49-4e58-4963-aa35-6ca9a3e9abb6",
       "rows": [
        [
         "6",
         "kwota_kredytu",
         "0.15779593452400564"
        ],
        [
         "10",
         "oproc_propon",
         "0.044854037898583776"
        ],
        [
         "3",
         "typ_umowy",
         "0.03923540337010811"
        ],
        [
         "7",
         "oproc_refin",
         "0.0315816978569019"
        ],
        [
         "8",
         "oproc_konkur",
         "0.030017787603609403"
        ],
        [
         "2",
         "kod_partnera",
         "0.018686175261759308"
        ],
        [
         "1",
         "grupa_ryzyka",
         "0.018082179360398687"
        ],
        [
         "5",
         "okres_kredytu",
         "0.01127114023251341"
        ],
        [
         "4",
         "scoring_FICO",
         "0.010906851594514766"
        ],
        [
         "0",
         "data_akceptacji",
         "0.0013118344754274869"
        ],
        [
         "9",
         "koszt_pieniadza",
         "0.0"
        ]
       ],
       "shape": {
        "columns": 2,
        "rows": 11
       }
      },
      "text/html": [
       "<div>\n",
       "<style scoped>\n",
       "    .dataframe tbody tr th:only-of-type {\n",
       "        vertical-align: middle;\n",
       "    }\n",
       "\n",
       "    .dataframe tbody tr th {\n",
       "        vertical-align: top;\n",
       "    }\n",
       "\n",
       "    .dataframe thead th {\n",
       "        text-align: right;\n",
       "    }\n",
       "</style>\n",
       "<table border=\"1\" class=\"dataframe\">\n",
       "  <thead>\n",
       "    <tr style=\"text-align: right;\">\n",
       "      <th></th>\n",
       "      <th>feature</th>\n",
       "      <th>MI</th>\n",
       "    </tr>\n",
       "  </thead>\n",
       "  <tbody>\n",
       "    <tr>\n",
       "      <th>6</th>\n",
       "      <td>kwota_kredytu</td>\n",
       "      <td>0.157796</td>\n",
       "    </tr>\n",
       "    <tr>\n",
       "      <th>10</th>\n",
       "      <td>oproc_propon</td>\n",
       "      <td>0.044854</td>\n",
       "    </tr>\n",
       "    <tr>\n",
       "      <th>3</th>\n",
       "      <td>typ_umowy</td>\n",
       "      <td>0.039235</td>\n",
       "    </tr>\n",
       "    <tr>\n",
       "      <th>7</th>\n",
       "      <td>oproc_refin</td>\n",
       "      <td>0.031582</td>\n",
       "    </tr>\n",
       "    <tr>\n",
       "      <th>8</th>\n",
       "      <td>oproc_konkur</td>\n",
       "      <td>0.030018</td>\n",
       "    </tr>\n",
       "    <tr>\n",
       "      <th>2</th>\n",
       "      <td>kod_partnera</td>\n",
       "      <td>0.018686</td>\n",
       "    </tr>\n",
       "    <tr>\n",
       "      <th>1</th>\n",
       "      <td>grupa_ryzyka</td>\n",
       "      <td>0.018082</td>\n",
       "    </tr>\n",
       "    <tr>\n",
       "      <th>5</th>\n",
       "      <td>okres_kredytu</td>\n",
       "      <td>0.011271</td>\n",
       "    </tr>\n",
       "    <tr>\n",
       "      <th>4</th>\n",
       "      <td>scoring_FICO</td>\n",
       "      <td>0.010907</td>\n",
       "    </tr>\n",
       "    <tr>\n",
       "      <th>0</th>\n",
       "      <td>data_akceptacji</td>\n",
       "      <td>0.001312</td>\n",
       "    </tr>\n",
       "    <tr>\n",
       "      <th>9</th>\n",
       "      <td>koszt_pieniadza</td>\n",
       "      <td>0.000000</td>\n",
       "    </tr>\n",
       "  </tbody>\n",
       "</table>\n",
       "</div>"
      ],
      "text/plain": [
       "            feature        MI\n",
       "6     kwota_kredytu  0.157796\n",
       "10     oproc_propon  0.044854\n",
       "3         typ_umowy  0.039235\n",
       "7       oproc_refin  0.031582\n",
       "8      oproc_konkur  0.030018\n",
       "2      kod_partnera  0.018686\n",
       "1      grupa_ryzyka  0.018082\n",
       "5     okres_kredytu  0.011271\n",
       "4      scoring_FICO  0.010907\n",
       "0   data_akceptacji  0.001312\n",
       "9   koszt_pieniadza  0.000000"
      ]
     },
     "execution_count": 31,
     "metadata": {},
     "output_type": "execute_result"
    }
   ],
   "source": [
    "X = df[features].apply(lambda col: pd.factorize(col, sort=True)[0])\n",
    "y = df[TARGET].astype(int)\n",
    "\n",
    "mi = mutual_info_classif(X, y, discrete_features=\"auto\", random_state=42)\n",
    "mi_df = pd.DataFrame({\"feature\": features, \"MI\": mi}).sort_values(\"MI\", ascending=False)\n",
    "\n",
    "mi_df"
   ]
  }
 ],
 "metadata": {
  "kernelspec": {
   "display_name": ".venv",
   "language": "python",
   "name": "python3"
  },
  "language_info": {
   "codemirror_mode": {
    "name": "ipython",
    "version": 3
   },
   "file_extension": ".py",
   "mimetype": "text/x-python",
   "name": "python",
   "nbconvert_exporter": "python",
   "pygments_lexer": "ipython3",
   "version": "3.12.2"
  }
 },
 "nbformat": 4,
 "nbformat_minor": 2
}
